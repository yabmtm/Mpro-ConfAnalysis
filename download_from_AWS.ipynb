{
 "cells": [
  {
   "cell_type": "markdown",
   "metadata": {},
   "source": [
    "# Downloading simulation data from AWS \n",
    "\n",
    "October 18, 2021\n",
    "\n",
    "In this notebook, Vince and Rashad are trying to use Matt's example code to download some simulation data of our choosing\n",
    "\n"
   ]
  },
  {
   "cell_type": "code",
   "execution_count": 7,
   "metadata": {},
   "outputs": [],
   "source": [
    "import mdtraj as md\n",
    "import itertools\n",
    "import numpy as np\n",
    "import matplotlib\n",
    "from matplotlib import pyplot as plt\n",
    "\n",
    "import os, urllib, subprocess, glob\n",
    "from tqdm import tqdm\n",
    "\n",
    "class DownloadProgressBar(tqdm):\n",
    "    def update_to(self, b=1, bsize=1, tsize=None):\n",
    "        if tsize is not None:\n",
    "            self.total = tsize\n",
    "        self.update(b * bsize - self.n)\n",
    "\n",
    "\n",
    "def download(url, output_path):\n",
    "    with DownloadProgressBar(unit='B', unit_scale=True,\n",
    "                             miniters=1, desc=url.split('/')[-1]) as t:\n",
    "        urllib.request.urlretrieve(url, filename=output_path, reporthook=t.update_to)\n",
    "\n",
    "def run_cmd(cmd):\n",
    "    subprocess.check_output(cmd, stderr=subprocess.STDOUT,shell=True).decode().split('\\n')"
   ]
  },
  {
   "cell_type": "code",
   "execution_count": 10,
   "metadata": {},
   "outputs": [
    {
     "name": "stderr",
     "output_type": "stream",
     "text": [
      "npt.gro: 2.45MB [00:00, 7.37MB/s]                            \n",
      "topol.top: 2.65MB [00:00, 9.76MB/s]                            \n",
      "traj_comp.xtc: 213kB [00:00, 1.18MB/s]                            \n"
     ]
    },
    {
     "name": "stdout",
     "output_type": "stream",
     "text": [
      "\n",
      "Processing P14823_R0_C0_G0\n"
     ]
    },
    {
     "name": "stderr",
     "output_type": "stream",
     "text": [
      "traj_comp.xtc:   4%|▍         | 8.19k/207k [00:00<00:04, 44.2kB/s]"
     ]
    },
    {
     "name": "stdout",
     "output_type": "stream",
     "text": [
      "\n",
      "Processing P14823_R0_C0_G1\n"
     ]
    },
    {
     "name": "stderr",
     "output_type": "stream",
     "text": [
      "traj_comp.xtc: 213kB [00:00, 969kB/s]                             \n",
      "traj_comp.xtc: 213kB [00:00, 1.11MB/s]                            "
     ]
    },
    {
     "name": "stdout",
     "output_type": "stream",
     "text": [
      "\n",
      "Processing P14823_R0_C0_G2\n"
     ]
    },
    {
     "name": "stderr",
     "output_type": "stream",
     "text": [
      "\n",
      "traj_comp.xtc: 213kB [00:00, 1.34MB/s]                            "
     ]
    },
    {
     "name": "stdout",
     "output_type": "stream",
     "text": [
      "\n",
      "Processing P14823_R0_C0_G3\n"
     ]
    },
    {
     "name": "stderr",
     "output_type": "stream",
     "text": [
      "\n",
      "traj_comp.xtc: 213kB [00:00, 1.09MB/s]                            "
     ]
    },
    {
     "name": "stdout",
     "output_type": "stream",
     "text": [
      "\n",
      "Processing P14823_R0_C0_G4\n"
     ]
    },
    {
     "name": "stderr",
     "output_type": "stream",
     "text": [
      "\n",
      "traj_comp.xtc: 213kB [00:00, 1.07MB/s]                            "
     ]
    },
    {
     "name": "stdout",
     "output_type": "stream",
     "text": [
      "\n",
      "Processing P14823_R0_C0_G5\n"
     ]
    },
    {
     "name": "stderr",
     "output_type": "stream",
     "text": [
      "\n",
      "traj_comp.xtc:   4%|▍         | 8.19k/211k [00:00<00:04, 47.5kB/s]"
     ]
    },
    {
     "name": "stdout",
     "output_type": "stream",
     "text": [
      "\n",
      "Processing P14823_R0_C0_G6\n"
     ]
    },
    {
     "name": "stderr",
     "output_type": "stream",
     "text": [
      "traj_comp.xtc: 213kB [00:00, 1.03MB/s]                            \n",
      "traj_comp.xtc: 213kB [00:00, 1.33MB/s]                            "
     ]
    },
    {
     "name": "stdout",
     "output_type": "stream",
     "text": [
      "\n",
      "Processing P14823_R0_C0_G7\n"
     ]
    },
    {
     "name": "stderr",
     "output_type": "stream",
     "text": [
      "\n",
      "traj_comp.xtc: 213kB [00:00, 1.08MB/s]                            "
     ]
    },
    {
     "name": "stdout",
     "output_type": "stream",
     "text": [
      "\n",
      "Processing P14823_R0_C0_G8\n"
     ]
    },
    {
     "name": "stderr",
     "output_type": "stream",
     "text": [
      "\n",
      "traj_comp.xtc: 213kB [00:00, 1.19MB/s]                            "
     ]
    },
    {
     "name": "stdout",
     "output_type": "stream",
     "text": [
      "\n",
      "Processing P14823_R0_C0_G9\n"
     ]
    },
    {
     "name": "stderr",
     "output_type": "stream",
     "text": [
      "\n",
      "traj_comp.xtc:   4%|▍         | 8.19k/210k [00:00<00:03, 53.2kB/s]"
     ]
    },
    {
     "name": "stdout",
     "output_type": "stream",
     "text": [
      "\n",
      "Processing P14823_R0_C0_G10\n"
     ]
    },
    {
     "name": "stderr",
     "output_type": "stream",
     "text": [
      "traj_comp.xtc: 213kB [00:00, 981kB/s]                             \n",
      "traj_comp.xtc: 213kB [00:00, 1.34MB/s]                            "
     ]
    },
    {
     "name": "stdout",
     "output_type": "stream",
     "text": [
      "\n",
      "Processing P14823_R0_C0_G11\n"
     ]
    },
    {
     "name": "stderr",
     "output_type": "stream",
     "text": [
      "\n",
      "traj_comp.xtc: 213kB [00:00, 1.14MB/s]                            "
     ]
    },
    {
     "name": "stdout",
     "output_type": "stream",
     "text": [
      "\n",
      "Processing P14823_R0_C0_G12\n"
     ]
    },
    {
     "name": "stderr",
     "output_type": "stream",
     "text": [
      "\n",
      "traj_comp.xtc: 213kB [00:00, 1.09MB/s]                            "
     ]
    },
    {
     "name": "stdout",
     "output_type": "stream",
     "text": [
      "\n",
      "Processing P14823_R0_C0_G13\n"
     ]
    },
    {
     "name": "stderr",
     "output_type": "stream",
     "text": [
      "\n",
      "traj_comp.xtc: 213kB [00:00, 1.12MB/s]                            "
     ]
    },
    {
     "name": "stdout",
     "output_type": "stream",
     "text": [
      "\n",
      "Processing P14823_R0_C0_G14\n"
     ]
    },
    {
     "name": "stderr",
     "output_type": "stream",
     "text": [
      "\n",
      "traj_comp.xtc: 213kB [00:00, 1.12MB/s]                            "
     ]
    },
    {
     "name": "stdout",
     "output_type": "stream",
     "text": [
      "\n",
      "Processing P14823_R0_C0_G15\n"
     ]
    },
    {
     "name": "stderr",
     "output_type": "stream",
     "text": [
      "\n",
      "traj_comp.xtc: 213kB [00:00, 1.24MB/s]                            "
     ]
    },
    {
     "name": "stdout",
     "output_type": "stream",
     "text": [
      "\n",
      "Processing P14823_R0_C0_G16\n"
     ]
    },
    {
     "name": "stderr",
     "output_type": "stream",
     "text": [
      "\n",
      "traj_comp.xtc: 213kB [00:00, 1.20MB/s]                            "
     ]
    },
    {
     "name": "stdout",
     "output_type": "stream",
     "text": [
      "\n",
      "Processing P14823_R0_C0_G17\n"
     ]
    },
    {
     "name": "stderr",
     "output_type": "stream",
     "text": [
      "\n",
      "traj_comp.xtc: 213kB [00:00, 1.17MB/s]                            "
     ]
    },
    {
     "name": "stdout",
     "output_type": "stream",
     "text": [
      "\n",
      "Processing P14823_R0_C0_G18\n"
     ]
    },
    {
     "name": "stderr",
     "output_type": "stream",
     "text": [
      "\n",
      "traj_comp.xtc: 213kB [00:00, 1.12MB/s]                            "
     ]
    },
    {
     "name": "stdout",
     "output_type": "stream",
     "text": [
      "\n",
      "Processing P14823_R0_C0_G19\n"
     ]
    },
    {
     "name": "stderr",
     "output_type": "stream",
     "text": [
      "\n",
      "traj_comp.xtc:   4%|▍         | 8.19k/208k [00:00<00:03, 52.2kB/s]"
     ]
    },
    {
     "name": "stdout",
     "output_type": "stream",
     "text": [
      "\n",
      "Processing P14823_R0_C0_G20\n"
     ]
    },
    {
     "name": "stderr",
     "output_type": "stream",
     "text": [
      "traj_comp.xtc: 213kB [00:00, 1.03MB/s]                            \n",
      "traj_comp.xtc: 213kB [00:00, 1.09MB/s]                            "
     ]
    },
    {
     "name": "stdout",
     "output_type": "stream",
     "text": [
      "\n",
      "Processing P14823_R0_C0_G21\n"
     ]
    },
    {
     "name": "stderr",
     "output_type": "stream",
     "text": [
      "\n",
      "traj_comp.xtc: 213kB [00:00, 1.12MB/s]                            "
     ]
    },
    {
     "name": "stdout",
     "output_type": "stream",
     "text": [
      "\n",
      "Processing P14823_R0_C0_G22\n"
     ]
    },
    {
     "name": "stderr",
     "output_type": "stream",
     "text": [
      "\n",
      "traj_comp.xtc: 213kB [00:00, 1.21MB/s]                            "
     ]
    },
    {
     "name": "stdout",
     "output_type": "stream",
     "text": [
      "\n",
      "Processing P14823_R0_C0_G23\n"
     ]
    },
    {
     "name": "stderr",
     "output_type": "stream",
     "text": [
      "\n",
      "traj_comp.xtc: 213kB [00:00, 1.12MB/s]                            "
     ]
    },
    {
     "name": "stdout",
     "output_type": "stream",
     "text": [
      "\n",
      "Processing P14823_R0_C0_G24\n"
     ]
    },
    {
     "name": "stderr",
     "output_type": "stream",
     "text": [
      "\n",
      "traj_comp.xtc: 205kB [00:00, 1.06MB/s]                            "
     ]
    },
    {
     "name": "stdout",
     "output_type": "stream",
     "text": [
      "\n",
      "Processing P14823_R0_C0_G25\n"
     ]
    },
    {
     "name": "stderr",
     "output_type": "stream",
     "text": [
      "\n",
      "traj_comp.xtc:   4%|▍         | 8.19k/205k [00:00<00:04, 47.5kB/s]"
     ]
    },
    {
     "name": "stdout",
     "output_type": "stream",
     "text": [
      "\n",
      "Processing P14823_R0_C0_G26\n"
     ]
    },
    {
     "name": "stderr",
     "output_type": "stream",
     "text": [
      "traj_comp.xtc: 213kB [00:00, 957kB/s]                             \n",
      "traj_comp.xtc: 213kB [00:00, 1.17MB/s]                            "
     ]
    },
    {
     "name": "stdout",
     "output_type": "stream",
     "text": [
      "\n",
      "Processing P14823_R0_C0_G27\n"
     ]
    },
    {
     "name": "stderr",
     "output_type": "stream",
     "text": [
      "\n",
      "traj_comp.xtc: 213kB [00:00, 1.21MB/s]                            "
     ]
    },
    {
     "name": "stdout",
     "output_type": "stream",
     "text": [
      "\n",
      "Processing P14823_R0_C0_G28\n"
     ]
    },
    {
     "name": "stderr",
     "output_type": "stream",
     "text": [
      "\n",
      "traj_comp.xtc: 213kB [00:00, 1.21MB/s]                            "
     ]
    },
    {
     "name": "stdout",
     "output_type": "stream",
     "text": [
      "\n",
      "Processing P14823_R0_C0_G29\n"
     ]
    },
    {
     "name": "stderr",
     "output_type": "stream",
     "text": [
      "\n",
      "traj_comp.xtc: 213kB [00:00, 1.08MB/s]                            "
     ]
    },
    {
     "name": "stdout",
     "output_type": "stream",
     "text": [
      "\n",
      "Processing P14823_R0_C0_G30\n"
     ]
    },
    {
     "name": "stderr",
     "output_type": "stream",
     "text": [
      "\n",
      "traj_comp.xtc:   4%|▍         | 8.19k/207k [00:00<00:04, 44.1kB/s]"
     ]
    },
    {
     "name": "stdout",
     "output_type": "stream",
     "text": [
      "\n",
      "Processing P14823_R0_C0_G31\n"
     ]
    },
    {
     "name": "stderr",
     "output_type": "stream",
     "text": [
      "traj_comp.xtc: 213kB [00:00, 963kB/s]                             \n",
      "traj_comp.xtc:   4%|▍         | 8.19k/207k [00:00<00:04, 44.3kB/s]"
     ]
    },
    {
     "name": "stdout",
     "output_type": "stream",
     "text": [
      "\n",
      "Processing P14823_R0_C0_G32\n"
     ]
    },
    {
     "name": "stderr",
     "output_type": "stream",
     "text": [
      "traj_comp.xtc: 213kB [00:00, 968kB/s]                             \n",
      "traj_comp.xtc: 213kB [00:00, 1.14MB/s]                            "
     ]
    },
    {
     "name": "stdout",
     "output_type": "stream",
     "text": [
      "\n",
      "Processing P14823_R0_C0_G33\n"
     ]
    },
    {
     "name": "stderr",
     "output_type": "stream",
     "text": [
      "\n",
      "traj_comp.xtc: 213kB [00:00, 1.06MB/s]                            "
     ]
    },
    {
     "name": "stdout",
     "output_type": "stream",
     "text": [
      "\n",
      "Processing P14823_R0_C0_G34\n"
     ]
    },
    {
     "name": "stderr",
     "output_type": "stream",
     "text": [
      "\n",
      "traj_comp.xtc: 213kB [00:00, 1.22MB/s]                            "
     ]
    },
    {
     "name": "stdout",
     "output_type": "stream",
     "text": [
      "\n",
      "Processing P14823_R0_C0_G35\n"
     ]
    },
    {
     "name": "stderr",
     "output_type": "stream",
     "text": [
      "\n",
      "traj_comp.xtc: 213kB [00:00, 1.13MB/s]                            "
     ]
    },
    {
     "name": "stdout",
     "output_type": "stream",
     "text": [
      "\n",
      "Processing P14823_R0_C0_G36\n"
     ]
    },
    {
     "name": "stderr",
     "output_type": "stream",
     "text": [
      "\n",
      "traj_comp.xtc: 213kB [00:00, 1.12MB/s]                            "
     ]
    },
    {
     "name": "stdout",
     "output_type": "stream",
     "text": [
      "\n",
      "Processing P14823_R0_C0_G37\n"
     ]
    },
    {
     "name": "stderr",
     "output_type": "stream",
     "text": [
      "\n",
      "traj_comp.xtc: 213kB [00:00, 1.26MB/s]                            "
     ]
    },
    {
     "name": "stdout",
     "output_type": "stream",
     "text": [
      "\n",
      "Processing P14823_R0_C0_G38\n"
     ]
    },
    {
     "name": "stderr",
     "output_type": "stream",
     "text": [
      "\n",
      "traj_comp.xtc: 213kB [00:00, 1.12MB/s]                            "
     ]
    },
    {
     "name": "stdout",
     "output_type": "stream",
     "text": [
      "\n",
      "Processing P14823_R0_C0_G39\n"
     ]
    },
    {
     "name": "stderr",
     "output_type": "stream",
     "text": [
      "\n",
      "traj_comp.xtc:   4%|▍         | 8.19k/206k [00:00<00:04, 49.3kB/s]"
     ]
    },
    {
     "name": "stdout",
     "output_type": "stream",
     "text": [
      "\n",
      "Processing P14823_R0_C0_G40\n"
     ]
    },
    {
     "name": "stderr",
     "output_type": "stream",
     "text": [
      "traj_comp.xtc: 213kB [00:00, 1.06MB/s]                            \n",
      "traj_comp.xtc: 213kB [00:00, 1.21MB/s]                            "
     ]
    },
    {
     "name": "stdout",
     "output_type": "stream",
     "text": [
      "\n",
      "Processing P14823_R0_C0_G41\n"
     ]
    },
    {
     "name": "stderr",
     "output_type": "stream",
     "text": [
      "\n",
      "traj_comp.xtc: 213kB [00:00, 1.19MB/s]                            "
     ]
    },
    {
     "name": "stdout",
     "output_type": "stream",
     "text": [
      "\n",
      "Processing P14823_R0_C0_G42\n"
     ]
    },
    {
     "name": "stderr",
     "output_type": "stream",
     "text": [
      "\n",
      "traj_comp.xtc: 213kB [00:00, 1.15MB/s]                            "
     ]
    },
    {
     "name": "stdout",
     "output_type": "stream",
     "text": [
      "\n",
      "Processing P14823_R0_C0_G43\n"
     ]
    },
    {
     "name": "stderr",
     "output_type": "stream",
     "text": [
      "\n",
      "traj_comp.xtc: 213kB [00:00, 1.15MB/s]                            "
     ]
    },
    {
     "name": "stdout",
     "output_type": "stream",
     "text": [
      "\n",
      "Processing P14823_R0_C0_G44\n"
     ]
    },
    {
     "name": "stderr",
     "output_type": "stream",
     "text": [
      "\n",
      "traj_comp.xtc: 213kB [00:00, 1.31MB/s]                            "
     ]
    },
    {
     "name": "stdout",
     "output_type": "stream",
     "text": [
      "\n",
      "Processing P14823_R0_C0_G45\n"
     ]
    },
    {
     "name": "stderr",
     "output_type": "stream",
     "text": [
      "\n",
      "traj_comp.xtc: 213kB [00:00, 1.16MB/s]                            "
     ]
    },
    {
     "name": "stdout",
     "output_type": "stream",
     "text": [
      "\n",
      "Processing P14823_R0_C0_G46\n"
     ]
    },
    {
     "name": "stderr",
     "output_type": "stream",
     "text": [
      "\n",
      "traj_comp.xtc: 213kB [00:00, 1.20MB/s]                            "
     ]
    },
    {
     "name": "stdout",
     "output_type": "stream",
     "text": [
      "\n",
      "Processing P14823_R0_C0_G47\n"
     ]
    },
    {
     "name": "stderr",
     "output_type": "stream",
     "text": [
      "\n",
      "traj_comp.xtc:   4%|▍         | 8.19k/209k [00:00<00:03, 60.3kB/s]"
     ]
    },
    {
     "name": "stdout",
     "output_type": "stream",
     "text": [
      "\n",
      "Processing P14823_R0_C0_G48\n"
     ]
    },
    {
     "name": "stderr",
     "output_type": "stream",
     "text": [
      "traj_comp.xtc: 213kB [00:00, 876kB/s]                             \n",
      "traj_comp.xtc: 213kB [00:00, 1.08MB/s]                            "
     ]
    },
    {
     "name": "stdout",
     "output_type": "stream",
     "text": [
      "\n",
      "Processing P14823_R0_C0_G49\n"
     ]
    },
    {
     "name": "stderr",
     "output_type": "stream",
     "text": [
      "\n",
      "traj_comp.xtc: 213kB [00:00, 1.14MB/s]                            "
     ]
    },
    {
     "name": "stdout",
     "output_type": "stream",
     "text": [
      "\n",
      "Processing P14823_R0_C0_G50\n"
     ]
    },
    {
     "name": "stderr",
     "output_type": "stream",
     "text": [
      "\n",
      "traj_comp.xtc: 213kB [00:00, 1.10MB/s]                            "
     ]
    },
    {
     "name": "stdout",
     "output_type": "stream",
     "text": [
      "\n",
      "Processing P14823_R0_C0_G51\n"
     ]
    },
    {
     "name": "stderr",
     "output_type": "stream",
     "text": [
      "\n",
      "traj_comp.xtc: 213kB [00:00, 1.16MB/s]                            "
     ]
    },
    {
     "name": "stdout",
     "output_type": "stream",
     "text": [
      "\n",
      "Processing P14823_R0_C0_G52\n"
     ]
    },
    {
     "name": "stderr",
     "output_type": "stream",
     "text": [
      "\n",
      "traj_comp.xtc: 213kB [00:00, 1.12MB/s]                            "
     ]
    },
    {
     "name": "stdout",
     "output_type": "stream",
     "text": [
      "\n",
      "Processing P14823_R0_C0_G53\n"
     ]
    },
    {
     "name": "stderr",
     "output_type": "stream",
     "text": [
      "\n",
      "traj_comp.xtc: 213kB [00:00, 1.28MB/s]                            "
     ]
    },
    {
     "name": "stdout",
     "output_type": "stream",
     "text": [
      "\n",
      "Processing P14823_R0_C0_G54\n"
     ]
    },
    {
     "name": "stderr",
     "output_type": "stream",
     "text": [
      "\n",
      "traj_comp.xtc: 213kB [00:00, 1.17MB/s]                            "
     ]
    },
    {
     "name": "stdout",
     "output_type": "stream",
     "text": [
      "\n",
      "Processing P14823_R0_C0_G55\n"
     ]
    },
    {
     "name": "stderr",
     "output_type": "stream",
     "text": [
      "\n",
      "traj_comp.xtc: 213kB [00:00, 1.28MB/s]                            "
     ]
    },
    {
     "name": "stdout",
     "output_type": "stream",
     "text": [
      "\n",
      "Processing P14823_R0_C0_G56\n"
     ]
    },
    {
     "name": "stderr",
     "output_type": "stream",
     "text": [
      "\n",
      "traj_comp.xtc: 213kB [00:00, 1.14MB/s]                            "
     ]
    },
    {
     "name": "stdout",
     "output_type": "stream",
     "text": [
      "\n",
      "Processing P14823_R0_C0_G57\n"
     ]
    },
    {
     "name": "stderr",
     "output_type": "stream",
     "text": [
      "\n",
      "traj_comp.xtc: 205kB [00:00, 1.14MB/s]                            "
     ]
    },
    {
     "name": "stdout",
     "output_type": "stream",
     "text": [
      "\n",
      "Processing P14823_R0_C0_G58\n"
     ]
    },
    {
     "name": "stderr",
     "output_type": "stream",
     "text": [
      "\n",
      "traj_comp.xtc: 205kB [00:00, 1.07MB/s]                            "
     ]
    },
    {
     "name": "stdout",
     "output_type": "stream",
     "text": [
      "\n",
      "Processing P14823_R0_C0_G59\n"
     ]
    },
    {
     "name": "stderr",
     "output_type": "stream",
     "text": [
      "\n",
      "traj_comp.xtc: 205kB [00:00, 1.16MB/s]                            "
     ]
    },
    {
     "name": "stdout",
     "output_type": "stream",
     "text": [
      "\n",
      "Processing P14823_R0_C0_G60\n"
     ]
    },
    {
     "name": "stderr",
     "output_type": "stream",
     "text": [
      "\n",
      "traj_comp.xtc: 205kB [00:00, 1.15MB/s]                            "
     ]
    },
    {
     "name": "stdout",
     "output_type": "stream",
     "text": [
      "\n",
      "Processing P14823_R0_C0_G61\n"
     ]
    },
    {
     "name": "stderr",
     "output_type": "stream",
     "text": [
      "\n",
      "traj_comp.xtc:   4%|▍         | 8.19k/204k [00:00<00:03, 55.5kB/s]"
     ]
    },
    {
     "name": "stdout",
     "output_type": "stream",
     "text": [
      "\n",
      "Processing P14823_R0_C0_G62\n"
     ]
    },
    {
     "name": "stderr",
     "output_type": "stream",
     "text": [
      "traj_comp.xtc: 205kB [00:00, 772kB/s]                             \n",
      "traj_comp.xtc: 213kB [00:00, 1.27MB/s]                            "
     ]
    },
    {
     "name": "stdout",
     "output_type": "stream",
     "text": [
      "\n",
      "Processing P14823_R0_C0_G63\n"
     ]
    },
    {
     "name": "stderr",
     "output_type": "stream",
     "text": [
      "\n",
      "traj_comp.xtc: 0.00B [00:00, ?B/s]"
     ]
    },
    {
     "name": "stdout",
     "output_type": "stream",
     "text": [
      "\n",
      "Processing P14823_R0_C0_G64\n"
     ]
    },
    {
     "name": "stderr",
     "output_type": "stream",
     "text": [
      "traj_comp.xtc: 205kB [00:00, 753kB/s]                             \n",
      "traj_comp.xtc: 205kB [00:00, 1.11MB/s]                            "
     ]
    },
    {
     "name": "stdout",
     "output_type": "stream",
     "text": [
      "\n",
      "Processing P14823_R0_C0_G65\n"
     ]
    },
    {
     "name": "stderr",
     "output_type": "stream",
     "text": [
      "\n",
      "traj_comp.xtc: 205kB [00:00, 1.25MB/s]                            "
     ]
    },
    {
     "name": "stdout",
     "output_type": "stream",
     "text": [
      "\n",
      "Processing P14823_R0_C0_G66\n"
     ]
    },
    {
     "name": "stderr",
     "output_type": "stream",
     "text": [
      "\n",
      "traj_comp.xtc:   4%|▍         | 8.19k/204k [00:00<00:03, 52.9kB/s]"
     ]
    },
    {
     "name": "stdout",
     "output_type": "stream",
     "text": [
      "\n",
      "Processing P14823_R0_C0_G67\n"
     ]
    },
    {
     "name": "stderr",
     "output_type": "stream",
     "text": [
      "traj_comp.xtc: 205kB [00:00, 1.01MB/s]                            \n",
      "traj_comp.xtc: 213kB [00:00, 1.14MB/s]                            "
     ]
    },
    {
     "name": "stdout",
     "output_type": "stream",
     "text": [
      "\n",
      "Processing P14823_R0_C0_G68\n"
     ]
    },
    {
     "name": "stderr",
     "output_type": "stream",
     "text": [
      "\n",
      "traj_comp.xtc: 213kB [00:00, 1.33MB/s]                            "
     ]
    },
    {
     "name": "stdout",
     "output_type": "stream",
     "text": [
      "\n",
      "Processing P14823_R0_C0_G69\n"
     ]
    },
    {
     "name": "stderr",
     "output_type": "stream",
     "text": [
      "\n",
      "traj_comp.xtc: 213kB [00:00, 1.21MB/s]                            "
     ]
    },
    {
     "name": "stdout",
     "output_type": "stream",
     "text": [
      "\n",
      "Processing P14823_R0_C0_G70\n"
     ]
    },
    {
     "name": "stderr",
     "output_type": "stream",
     "text": [
      "\n",
      "traj_comp.xtc: 213kB [00:00, 1.11MB/s]                            "
     ]
    },
    {
     "name": "stdout",
     "output_type": "stream",
     "text": [
      "\n",
      "Processing P14823_R0_C0_G71\n"
     ]
    },
    {
     "name": "stderr",
     "output_type": "stream",
     "text": [
      "\n",
      "traj_comp.xtc: 213kB [00:00, 1.19MB/s]                            "
     ]
    },
    {
     "name": "stdout",
     "output_type": "stream",
     "text": [
      "\n",
      "Processing P14823_R0_C0_G72\n"
     ]
    },
    {
     "name": "stderr",
     "output_type": "stream",
     "text": [
      "\n",
      "traj_comp.xtc:   4%|▍         | 8.19k/210k [00:00<00:03, 54.7kB/s]"
     ]
    },
    {
     "name": "stdout",
     "output_type": "stream",
     "text": [
      "\n",
      "Processing P14823_R0_C0_G73\n"
     ]
    },
    {
     "name": "stderr",
     "output_type": "stream",
     "text": [
      "traj_comp.xtc: 213kB [00:00, 711kB/s]                             \n",
      "traj_comp.xtc: 213kB [00:00, 1.18MB/s]                            "
     ]
    },
    {
     "name": "stdout",
     "output_type": "stream",
     "text": [
      "\n",
      "Processing P14823_R0_C0_G74\n"
     ]
    },
    {
     "name": "stderr",
     "output_type": "stream",
     "text": [
      "\n",
      "traj_comp.xtc: 213kB [00:00, 1.24MB/s]                            "
     ]
    },
    {
     "name": "stdout",
     "output_type": "stream",
     "text": [
      "\n",
      "Processing P14823_R0_C0_G75\n"
     ]
    },
    {
     "name": "stderr",
     "output_type": "stream",
     "text": [
      "\n",
      "traj_comp.xtc: 213kB [00:00, 1.24MB/s]                            "
     ]
    },
    {
     "name": "stdout",
     "output_type": "stream",
     "text": [
      "\n",
      "Processing P14823_R0_C0_G76\n"
     ]
    },
    {
     "name": "stderr",
     "output_type": "stream",
     "text": [
      "\n",
      "traj_comp.xtc: 213kB [00:00, 1.09MB/s]                            "
     ]
    },
    {
     "name": "stdout",
     "output_type": "stream",
     "text": [
      "\n",
      "Processing P14823_R0_C0_G77\n"
     ]
    },
    {
     "name": "stderr",
     "output_type": "stream",
     "text": [
      "\n",
      "traj_comp.xtc: 213kB [00:00, 1.27MB/s]                            "
     ]
    },
    {
     "name": "stdout",
     "output_type": "stream",
     "text": [
      "\n",
      "Processing P14823_R0_C0_G78\n"
     ]
    },
    {
     "name": "stderr",
     "output_type": "stream",
     "text": [
      "\n",
      "traj_comp.xtc: 213kB [00:00, 1.22MB/s]                            "
     ]
    },
    {
     "name": "stdout",
     "output_type": "stream",
     "text": [
      "\n",
      "Processing P14823_R0_C0_G79\n"
     ]
    },
    {
     "name": "stderr",
     "output_type": "stream",
     "text": [
      "\n",
      "traj_comp.xtc: 213kB [00:00, 1.18MB/s]                            "
     ]
    },
    {
     "name": "stdout",
     "output_type": "stream",
     "text": [
      "\n",
      "Processing P14823_R0_C0_G80\n"
     ]
    },
    {
     "name": "stderr",
     "output_type": "stream",
     "text": [
      "\n",
      "traj_comp.xtc:   4%|▍         | 8.19k/209k [00:00<00:03, 59.2kB/s]"
     ]
    },
    {
     "name": "stdout",
     "output_type": "stream",
     "text": [
      "\n",
      "Processing P14823_R0_C0_G81\n"
     ]
    },
    {
     "name": "stderr",
     "output_type": "stream",
     "text": [
      "traj_comp.xtc: 213kB [00:00, 848kB/s]                             \n",
      "traj_comp.xtc:   4%|▍         | 8.19k/211k [00:00<00:04, 47.0kB/s]"
     ]
    },
    {
     "name": "stdout",
     "output_type": "stream",
     "text": [
      "\n",
      "Processing P14823_R0_C0_G82\n"
     ]
    },
    {
     "name": "stderr",
     "output_type": "stream",
     "text": [
      "traj_comp.xtc: 213kB [00:00, 1.02MB/s]                            \n",
      "traj_comp.xtc: 213kB [00:00, 1.09MB/s]                            "
     ]
    },
    {
     "name": "stdout",
     "output_type": "stream",
     "text": [
      "\n",
      "Processing P14823_R0_C0_G83\n"
     ]
    },
    {
     "name": "stderr",
     "output_type": "stream",
     "text": [
      "\n",
      "traj_comp.xtc: 213kB [00:00, 1.15MB/s]                            "
     ]
    },
    {
     "name": "stdout",
     "output_type": "stream",
     "text": [
      "\n",
      "Processing P14823_R0_C0_G84\n"
     ]
    },
    {
     "name": "stderr",
     "output_type": "stream",
     "text": [
      "\n",
      "traj_comp.xtc: 213kB [00:00, 1.09MB/s]                            "
     ]
    },
    {
     "name": "stdout",
     "output_type": "stream",
     "text": [
      "\n",
      "Processing P14823_R0_C0_G85\n"
     ]
    },
    {
     "name": "stderr",
     "output_type": "stream",
     "text": [
      "\n",
      "traj_comp.xtc: 213kB [00:00, 1.14MB/s]                            "
     ]
    },
    {
     "name": "stdout",
     "output_type": "stream",
     "text": [
      "\n",
      "Processing P14823_R0_C0_G86\n"
     ]
    },
    {
     "name": "stderr",
     "output_type": "stream",
     "text": [
      "\n",
      "traj_comp.xtc: 213kB [00:00, 1.14MB/s]                            "
     ]
    },
    {
     "name": "stdout",
     "output_type": "stream",
     "text": [
      "\n",
      "Processing P14823_R0_C0_G87\n"
     ]
    },
    {
     "name": "stderr",
     "output_type": "stream",
     "text": [
      "\n",
      "traj_comp.xtc: 0.00B [00:00, ?B/s]"
     ]
    },
    {
     "name": "stdout",
     "output_type": "stream",
     "text": [
      "\n",
      "Processing P14823_R0_C0_G88\n"
     ]
    },
    {
     "name": "stderr",
     "output_type": "stream",
     "text": [
      "traj_comp.xtc: 213kB [00:00, 748kB/s]                             \n",
      "traj_comp.xtc: 213kB [00:00, 1.08MB/s]                            "
     ]
    },
    {
     "name": "stdout",
     "output_type": "stream",
     "text": [
      "\n",
      "Processing P14823_R0_C0_G89\n"
     ]
    },
    {
     "name": "stderr",
     "output_type": "stream",
     "text": [
      "\n",
      "traj_comp.xtc:   4%|▍         | 8.19k/206k [00:00<00:03, 51.0kB/s]"
     ]
    },
    {
     "name": "stdout",
     "output_type": "stream",
     "text": [
      "\n",
      "Processing P14823_R0_C0_G90\n"
     ]
    },
    {
     "name": "stderr",
     "output_type": "stream",
     "text": [
      "traj_comp.xtc: 213kB [00:00, 1.02MB/s]                            \n",
      "traj_comp.xtc: 213kB [00:00, 1.12MB/s]                            "
     ]
    },
    {
     "name": "stdout",
     "output_type": "stream",
     "text": [
      "\n",
      "Processing P14823_R0_C0_G91\n"
     ]
    },
    {
     "name": "stderr",
     "output_type": "stream",
     "text": [
      "\n",
      "traj_comp.xtc: 205kB [00:00, 1.26MB/s]                            "
     ]
    },
    {
     "name": "stdout",
     "output_type": "stream",
     "text": [
      "\n",
      "Processing P14823_R0_C0_G92\n"
     ]
    },
    {
     "name": "stderr",
     "output_type": "stream",
     "text": [
      "\n",
      "traj_comp.xtc: 213kB [00:00, 1.16MB/s]                            "
     ]
    },
    {
     "name": "stdout",
     "output_type": "stream",
     "text": [
      "\n",
      "Processing P14823_R0_C0_G93\n"
     ]
    },
    {
     "name": "stderr",
     "output_type": "stream",
     "text": [
      "\n",
      "traj_comp.xtc: 213kB [00:00, 1.17MB/s]                            "
     ]
    },
    {
     "name": "stdout",
     "output_type": "stream",
     "text": [
      "\n",
      "Processing P14823_R0_C0_G94\n"
     ]
    },
    {
     "name": "stderr",
     "output_type": "stream",
     "text": [
      "\n",
      "traj_comp.xtc: 213kB [00:00, 1.33MB/s]                            "
     ]
    },
    {
     "name": "stdout",
     "output_type": "stream",
     "text": [
      "\n",
      "Processing P14823_R0_C0_G95\n"
     ]
    },
    {
     "name": "stderr",
     "output_type": "stream",
     "text": [
      "\n",
      "traj_comp.xtc:   4%|▍         | 8.19k/208k [00:00<00:03, 52.1kB/s]"
     ]
    },
    {
     "name": "stdout",
     "output_type": "stream",
     "text": [
      "\n",
      "Processing P14823_R0_C0_G96\n"
     ]
    },
    {
     "name": "stderr",
     "output_type": "stream",
     "text": [
      "traj_comp.xtc: 213kB [00:00, 1.04MB/s]                            \n",
      "traj_comp.xtc: 213kB [00:00, 1.30MB/s]                            "
     ]
    },
    {
     "name": "stdout",
     "output_type": "stream",
     "text": [
      "\n",
      "Processing P14823_R0_C0_G97\n"
     ]
    },
    {
     "name": "stderr",
     "output_type": "stream",
     "text": [
      "\n",
      "traj_comp.xtc: 213kB [00:00, 1.36MB/s]                            "
     ]
    },
    {
     "name": "stdout",
     "output_type": "stream",
     "text": [
      "\n",
      "Processing P14823_R0_C0_G98\n"
     ]
    },
    {
     "name": "stderr",
     "output_type": "stream",
     "text": [
      "\n",
      "traj_comp.xtc: 213kB [00:00, 1.22MB/s]                            "
     ]
    },
    {
     "name": "stdout",
     "output_type": "stream",
     "text": [
      "\n",
      "Processing P14823_R0_C0_G99\n"
     ]
    },
    {
     "name": "stderr",
     "output_type": "stream",
     "text": [
      "\n",
      "traj_comp.xtc: 213kB [00:00, 1.17MB/s]                            "
     ]
    },
    {
     "name": "stdout",
     "output_type": "stream",
     "text": [
      "\n",
      "Processing P14823_R0_C0_G100\n"
     ]
    },
    {
     "name": "stderr",
     "output_type": "stream",
     "text": [
      "\n",
      "traj_comp.xtc: 213kB [00:00, 1.24MB/s]                            "
     ]
    },
    {
     "name": "stdout",
     "output_type": "stream",
     "text": [
      "\n",
      "Processing P14823_R0_C0_G101\n"
     ]
    },
    {
     "name": "stderr",
     "output_type": "stream",
     "text": [
      "\n",
      "traj_comp.xtc: 213kB [00:00, 1.17MB/s]                            "
     ]
    },
    {
     "name": "stdout",
     "output_type": "stream",
     "text": [
      "\n",
      "Processing P14823_R0_C0_G102\n"
     ]
    },
    {
     "name": "stderr",
     "output_type": "stream",
     "text": [
      "\n",
      "traj_comp.xtc:   4%|▍         | 8.19k/210k [00:00<00:04, 48.9kB/s]"
     ]
    },
    {
     "name": "stdout",
     "output_type": "stream",
     "text": [
      "\n",
      "Processing P14823_R0_C0_G103\n"
     ]
    },
    {
     "name": "stderr",
     "output_type": "stream",
     "text": [
      "traj_comp.xtc: 213kB [00:00, 340kB/s]                             \n",
      "traj_comp.xtc: 213kB [00:00, 1.32MB/s]                            "
     ]
    },
    {
     "name": "stdout",
     "output_type": "stream",
     "text": [
      "\n",
      "Processing P14823_R0_C0_G104\n"
     ]
    },
    {
     "name": "stderr",
     "output_type": "stream",
     "text": [
      "\n",
      "traj_comp.xtc:   4%|▍         | 8.19k/210k [00:00<00:03, 53.3kB/s]"
     ]
    },
    {
     "name": "stdout",
     "output_type": "stream",
     "text": [
      "\n",
      "Processing P14823_R0_C0_G105\n"
     ]
    },
    {
     "name": "stderr",
     "output_type": "stream",
     "text": [
      "traj_comp.xtc: 213kB [00:00, 812kB/s]                             \n",
      "traj_comp.xtc:   4%|▍         | 8.19k/209k [00:00<00:04, 47.7kB/s]"
     ]
    },
    {
     "name": "stdout",
     "output_type": "stream",
     "text": [
      "\n",
      "Processing P14823_R0_C0_G106\n"
     ]
    },
    {
     "name": "stderr",
     "output_type": "stream",
     "text": [
      "traj_comp.xtc: 213kB [00:00, 1.04MB/s]                            \n",
      "traj_comp.xtc: 213kB [00:00, 1.11MB/s]                            "
     ]
    },
    {
     "name": "stdout",
     "output_type": "stream",
     "text": [
      "\n",
      "Processing P14823_R0_C0_G107\n"
     ]
    },
    {
     "name": "stderr",
     "output_type": "stream",
     "text": [
      "\n",
      "traj_comp.xtc: 213kB [00:00, 1.10MB/s]                            "
     ]
    },
    {
     "name": "stdout",
     "output_type": "stream",
     "text": [
      "\n",
      "Processing P14823_R0_C0_G108\n"
     ]
    },
    {
     "name": "stderr",
     "output_type": "stream",
     "text": [
      "\n",
      "traj_comp.xtc: 213kB [00:00, 1.24MB/s]                            "
     ]
    },
    {
     "name": "stdout",
     "output_type": "stream",
     "text": [
      "\n",
      "Processing P14823_R0_C0_G109\n"
     ]
    },
    {
     "name": "stderr",
     "output_type": "stream",
     "text": [
      "\n",
      "traj_comp.xtc: 213kB [00:00, 1.20MB/s]                            "
     ]
    },
    {
     "name": "stdout",
     "output_type": "stream",
     "text": [
      "\n",
      "Processing P14823_R0_C0_G110\n"
     ]
    },
    {
     "name": "stderr",
     "output_type": "stream",
     "text": [
      "\n",
      "traj_comp.xtc: 213kB [00:00, 1.25MB/s]                            "
     ]
    },
    {
     "name": "stdout",
     "output_type": "stream",
     "text": [
      "\n",
      "Processing P14823_R0_C0_G111\n"
     ]
    },
    {
     "name": "stderr",
     "output_type": "stream",
     "text": [
      "\n",
      "traj_comp.xtc: 213kB [00:00, 1.27MB/s]                            "
     ]
    },
    {
     "name": "stdout",
     "output_type": "stream",
     "text": [
      "\n",
      "Processing P14823_R0_C0_G112\n"
     ]
    },
    {
     "name": "stderr",
     "output_type": "stream",
     "text": [
      "\n",
      "traj_comp.xtc: 213kB [00:00, 1.25MB/s]                            "
     ]
    },
    {
     "name": "stdout",
     "output_type": "stream",
     "text": [
      "\n",
      "Processing P14823_R0_C0_G113\n"
     ]
    },
    {
     "name": "stderr",
     "output_type": "stream",
     "text": [
      "\n",
      "traj_comp.xtc: 213kB [00:00, 1.20MB/s]                            "
     ]
    },
    {
     "name": "stdout",
     "output_type": "stream",
     "text": [
      "\n",
      "Processing P14823_R0_C0_G114\n"
     ]
    },
    {
     "name": "stderr",
     "output_type": "stream",
     "text": [
      "\n",
      "traj_comp.xtc:   4%|▍         | 8.19k/207k [00:00<00:04, 45.4kB/s]"
     ]
    },
    {
     "name": "stdout",
     "output_type": "stream",
     "text": [
      "\n",
      "Processing P14823_R0_C0_G115\n"
     ]
    },
    {
     "name": "stderr",
     "output_type": "stream",
     "text": [
      "traj_comp.xtc: 213kB [00:00, 997kB/s]                             \n",
      "traj_comp.xtc: 213kB [00:00, 1.14MB/s]                            "
     ]
    },
    {
     "name": "stdout",
     "output_type": "stream",
     "text": [
      "\n",
      "Processing P14823_R0_C0_G116\n"
     ]
    },
    {
     "name": "stderr",
     "output_type": "stream",
     "text": [
      "\n",
      "traj_comp.xtc: 213kB [00:00, 1.29MB/s]                            "
     ]
    },
    {
     "name": "stdout",
     "output_type": "stream",
     "text": [
      "\n",
      "Processing P14823_R0_C0_G117\n"
     ]
    },
    {
     "name": "stderr",
     "output_type": "stream",
     "text": [
      "\n",
      "traj_comp.xtc: 213kB [00:00, 1.24MB/s]                            "
     ]
    },
    {
     "name": "stdout",
     "output_type": "stream",
     "text": [
      "\n",
      "Processing P14823_R0_C0_G118\n"
     ]
    },
    {
     "name": "stderr",
     "output_type": "stream",
     "text": [
      "\n",
      "traj_comp.xtc: 205kB [00:00, 1.07MB/s]                            "
     ]
    },
    {
     "name": "stdout",
     "output_type": "stream",
     "text": [
      "\n",
      "Processing P14823_R0_C0_G119\n"
     ]
    },
    {
     "name": "stderr",
     "output_type": "stream",
     "text": [
      "\n",
      "traj_comp.xtc: 213kB [00:00, 1.33MB/s]                            "
     ]
    },
    {
     "name": "stdout",
     "output_type": "stream",
     "text": [
      "\n",
      "Processing P14823_R0_C0_G120\n"
     ]
    },
    {
     "name": "stderr",
     "output_type": "stream",
     "text": [
      "\n",
      "traj_comp.xtc: 213kB [00:00, 1.21MB/s]                            "
     ]
    },
    {
     "name": "stdout",
     "output_type": "stream",
     "text": [
      "\n",
      "Processing P14823_R0_C0_G121\n"
     ]
    },
    {
     "name": "stderr",
     "output_type": "stream",
     "text": [
      "\n",
      "traj_comp.xtc: 213kB [00:00, 1.18MB/s]                            "
     ]
    },
    {
     "name": "stdout",
     "output_type": "stream",
     "text": [
      "\n",
      "Processing P14823_R0_C0_G122\n"
     ]
    },
    {
     "name": "stderr",
     "output_type": "stream",
     "text": [
      "\n",
      "traj_comp.xtc: 213kB [00:00, 1.10MB/s]                            "
     ]
    },
    {
     "name": "stdout",
     "output_type": "stream",
     "text": [
      "\n",
      "Processing P14823_R0_C0_G123\n"
     ]
    },
    {
     "name": "stderr",
     "output_type": "stream",
     "text": [
      "\n",
      "traj_comp.xtc:   4%|▍         | 8.19k/207k [00:00<00:04, 47.2kB/s]"
     ]
    },
    {
     "name": "stdout",
     "output_type": "stream",
     "text": [
      "\n",
      "Processing P14823_R0_C0_G124\n"
     ]
    },
    {
     "name": "stderr",
     "output_type": "stream",
     "text": [
      "traj_comp.xtc: 213kB [00:00, 1.02MB/s]                            \n",
      "traj_comp.xtc:   4%|▍         | 8.19k/208k [00:00<00:03, 56.8kB/s]"
     ]
    },
    {
     "name": "stdout",
     "output_type": "stream",
     "text": [
      "\n",
      "Processing P14823_R0_C0_G125\n"
     ]
    },
    {
     "name": "stderr",
     "output_type": "stream",
     "text": [
      "traj_comp.xtc: 213kB [00:00, 836kB/s]                             \n",
      "traj_comp.xtc:   4%|▍         | 8.19k/210k [00:00<00:04, 44.7kB/s]"
     ]
    },
    {
     "name": "stdout",
     "output_type": "stream",
     "text": [
      "\n",
      "Processing P14823_R0_C0_G126\n"
     ]
    },
    {
     "name": "stderr",
     "output_type": "stream",
     "text": [
      "traj_comp.xtc: 213kB [00:00, 717kB/s]                             \n",
      "traj_comp.xtc:   4%|▍         | 8.19k/209k [00:00<00:03, 50.7kB/s]"
     ]
    },
    {
     "name": "stdout",
     "output_type": "stream",
     "text": [
      "\n",
      "Processing P14823_R0_C0_G127\n"
     ]
    },
    {
     "name": "stderr",
     "output_type": "stream",
     "text": [
      "traj_comp.xtc: 213kB [00:00, 1.01MB/s]                            \n",
      "traj_comp.xtc:   4%|▍         | 8.19k/209k [00:00<00:04, 48.3kB/s]"
     ]
    },
    {
     "name": "stdout",
     "output_type": "stream",
     "text": [
      "\n",
      "Processing P14823_R0_C0_G128\n"
     ]
    },
    {
     "name": "stderr",
     "output_type": "stream",
     "text": [
      "traj_comp.xtc: 213kB [00:00, 1.04MB/s]                            \n",
      "traj_comp.xtc:   4%|▍         | 8.19k/207k [00:00<00:04, 49.2kB/s]"
     ]
    },
    {
     "name": "stdout",
     "output_type": "stream",
     "text": [
      "\n",
      "Processing P14823_R0_C0_G129\n"
     ]
    },
    {
     "name": "stderr",
     "output_type": "stream",
     "text": [
      "traj_comp.xtc: 213kB [00:00, 1.05MB/s]                            \n",
      "traj_comp.xtc: 213kB [00:00, 1.23MB/s]                            "
     ]
    },
    {
     "name": "stdout",
     "output_type": "stream",
     "text": [
      "\n",
      "Processing P14823_R0_C0_G130\n"
     ]
    },
    {
     "name": "stderr",
     "output_type": "stream",
     "text": [
      "\n",
      "traj_comp.xtc: 213kB [00:00, 1.18MB/s]                            "
     ]
    },
    {
     "name": "stdout",
     "output_type": "stream",
     "text": [
      "\n",
      "Processing P14823_R0_C0_G131\n"
     ]
    },
    {
     "name": "stderr",
     "output_type": "stream",
     "text": [
      "\n",
      "traj_comp.xtc: 213kB [00:00, 1.18MB/s]                            "
     ]
    },
    {
     "name": "stdout",
     "output_type": "stream",
     "text": [
      "\n",
      "Processing P14823_R0_C0_G132\n"
     ]
    },
    {
     "name": "stderr",
     "output_type": "stream",
     "text": [
      "\n",
      "traj_comp.xtc:   4%|▍         | 8.19k/205k [00:00<00:03, 49.8kB/s]"
     ]
    },
    {
     "name": "stdout",
     "output_type": "stream",
     "text": [
      "\n",
      "Processing P14823_R0_C0_G133\n"
     ]
    },
    {
     "name": "stderr",
     "output_type": "stream",
     "text": [
      "traj_comp.xtc: 213kB [00:00, 1.06MB/s]                            \n",
      "traj_comp.xtc: 213kB [00:00, 1.27MB/s]                            "
     ]
    },
    {
     "name": "stdout",
     "output_type": "stream",
     "text": [
      "\n",
      "Processing P14823_R0_C0_G134\n"
     ]
    },
    {
     "name": "stderr",
     "output_type": "stream",
     "text": [
      "\n",
      "traj_comp.xtc: 205kB [00:00, 1.15MB/s]                            "
     ]
    },
    {
     "name": "stdout",
     "output_type": "stream",
     "text": [
      "\n",
      "Processing P14823_R0_C0_G135\n"
     ]
    },
    {
     "name": "stderr",
     "output_type": "stream",
     "text": [
      "\n",
      "traj_comp.xtc: 213kB [00:00, 1.25MB/s]                            "
     ]
    },
    {
     "name": "stdout",
     "output_type": "stream",
     "text": [
      "\n",
      "Processing P14823_R0_C0_G136\n"
     ]
    },
    {
     "name": "stderr",
     "output_type": "stream",
     "text": [
      "\n",
      "traj_comp.xtc: 213kB [00:00, 1.25MB/s]                            "
     ]
    },
    {
     "name": "stdout",
     "output_type": "stream",
     "text": [
      "\n",
      "Processing P14823_R0_C0_G137\n"
     ]
    },
    {
     "name": "stderr",
     "output_type": "stream",
     "text": [
      "\n",
      "traj_comp.xtc:   4%|▍         | 8.19k/209k [00:00<00:04, 49.2kB/s]"
     ]
    },
    {
     "name": "stdout",
     "output_type": "stream",
     "text": [
      "\n",
      "Processing P14823_R0_C0_G138\n"
     ]
    },
    {
     "name": "stderr",
     "output_type": "stream",
     "text": [
      "traj_comp.xtc: 213kB [00:00, 984kB/s]                             \n",
      "traj_comp.xtc: 213kB [00:00, 1.12MB/s]                            "
     ]
    },
    {
     "name": "stdout",
     "output_type": "stream",
     "text": [
      "\n",
      "Processing P14823_R0_C0_G139\n"
     ]
    },
    {
     "name": "stderr",
     "output_type": "stream",
     "text": [
      "\n",
      "traj_comp.xtc: 213kB [00:00, 1.06MB/s]                            "
     ]
    },
    {
     "name": "stdout",
     "output_type": "stream",
     "text": [
      "\n",
      "Processing P14823_R0_C0_G140\n"
     ]
    },
    {
     "name": "stderr",
     "output_type": "stream",
     "text": [
      "\n",
      "traj_comp.xtc: 221kB [00:00, 1.25MB/s]                            "
     ]
    },
    {
     "name": "stdout",
     "output_type": "stream",
     "text": [
      "\n",
      "Processing P14823_R0_C0_G141\n"
     ]
    },
    {
     "name": "stderr",
     "output_type": "stream",
     "text": [
      "\n",
      "traj_comp.xtc:   4%|▍         | 8.19k/213k [00:00<00:04, 49.2kB/s]"
     ]
    },
    {
     "name": "stdout",
     "output_type": "stream",
     "text": [
      "\n",
      "Processing P14823_R0_C0_G142\n"
     ]
    },
    {
     "name": "stderr",
     "output_type": "stream",
     "text": [
      "traj_comp.xtc: 221kB [00:00, 1.09MB/s]                            \n",
      "traj_comp.xtc: 221kB [00:00, 1.13MB/s]                            "
     ]
    },
    {
     "name": "stdout",
     "output_type": "stream",
     "text": [
      "\n",
      "Processing P14823_R0_C0_G143\n"
     ]
    },
    {
     "name": "stderr",
     "output_type": "stream",
     "text": [
      "\n",
      "traj_comp.xtc:   4%|▍         | 8.19k/214k [00:00<00:04, 46.2kB/s]"
     ]
    },
    {
     "name": "stdout",
     "output_type": "stream",
     "text": [
      "\n",
      "Processing P14823_R0_C0_G144\n"
     ]
    },
    {
     "name": "stderr",
     "output_type": "stream",
     "text": [
      "traj_comp.xtc: 221kB [00:00, 1.05MB/s]                            \n",
      "traj_comp.xtc: 213kB [00:00, 1.17MB/s]                            "
     ]
    },
    {
     "name": "stdout",
     "output_type": "stream",
     "text": [
      "\n",
      "Processing P14823_R0_C0_G145\n"
     ]
    },
    {
     "name": "stderr",
     "output_type": "stream",
     "text": [
      "\n",
      "traj_comp.xtc:   4%|▍         | 8.19k/209k [00:00<00:04, 43.3kB/s]"
     ]
    },
    {
     "name": "stdout",
     "output_type": "stream",
     "text": [
      "\n",
      "Processing P14823_R0_C0_G146\n"
     ]
    },
    {
     "name": "stderr",
     "output_type": "stream",
     "text": [
      "traj_comp.xtc: 213kB [00:00, 886kB/s]                             \n",
      "traj_comp.xtc:   4%|▍         | 8.19k/207k [00:00<00:03, 51.9kB/s]"
     ]
    },
    {
     "name": "stdout",
     "output_type": "stream",
     "text": [
      "\n",
      "Processing P14823_R0_C0_G147\n"
     ]
    },
    {
     "name": "stderr",
     "output_type": "stream",
     "text": [
      "traj_comp.xtc: 213kB [00:00, 774kB/s]                             \n",
      "traj_comp.xtc: 0.00B [00:00, ?B/s]"
     ]
    },
    {
     "name": "stdout",
     "output_type": "stream",
     "text": [
      "\n",
      "Processing P14823_R0_C0_G148\n"
     ]
    },
    {
     "name": "stderr",
     "output_type": "stream",
     "text": [
      "traj_comp.xtc: 213kB [00:00, 370kB/s]                             \n",
      "traj_comp.xtc: 213kB [00:00, 1.23MB/s]                            "
     ]
    },
    {
     "name": "stdout",
     "output_type": "stream",
     "text": [
      "\n",
      "Processing P14823_R0_C0_G149\n"
     ]
    },
    {
     "name": "stderr",
     "output_type": "stream",
     "text": [
      "\n",
      "traj_comp.xtc: 213kB [00:00, 1.08MB/s]                            "
     ]
    },
    {
     "name": "stdout",
     "output_type": "stream",
     "text": [
      "\n",
      "Processing P14823_R0_C0_G150\n"
     ]
    },
    {
     "name": "stderr",
     "output_type": "stream",
     "text": [
      "\n",
      "traj_comp.xtc: 205kB [00:00, 1.09MB/s]                            "
     ]
    },
    {
     "name": "stdout",
     "output_type": "stream",
     "text": [
      "\n",
      "Processing P14823_R0_C0_G151\n"
     ]
    },
    {
     "name": "stderr",
     "output_type": "stream",
     "text": [
      "\n",
      "traj_comp.xtc:   4%|▍         | 8.19k/203k [00:00<00:03, 51.8kB/s]"
     ]
    },
    {
     "name": "stdout",
     "output_type": "stream",
     "text": [
      "\n",
      "Processing P14823_R0_C0_G152\n"
     ]
    },
    {
     "name": "stderr",
     "output_type": "stream",
     "text": [
      "traj_comp.xtc: 205kB [00:00, 994kB/s]                             \n",
      "traj_comp.xtc: 205kB [00:00, 1.24MB/s]                            "
     ]
    },
    {
     "name": "stdout",
     "output_type": "stream",
     "text": [
      "\n",
      "Processing P14823_R0_C0_G153\n"
     ]
    },
    {
     "name": "stderr",
     "output_type": "stream",
     "text": [
      "\n",
      "traj_comp.xtc: 205kB [00:00, 1.15MB/s]                            "
     ]
    },
    {
     "name": "stdout",
     "output_type": "stream",
     "text": [
      "\n",
      "Processing P14823_R0_C0_G154\n"
     ]
    },
    {
     "name": "stderr",
     "output_type": "stream",
     "text": [
      "\n",
      "traj_comp.xtc: 205kB [00:00, 1.16MB/s]                            "
     ]
    },
    {
     "name": "stdout",
     "output_type": "stream",
     "text": [
      "\n",
      "Processing P14823_R0_C0_G155\n"
     ]
    },
    {
     "name": "stderr",
     "output_type": "stream",
     "text": [
      "\n",
      "traj_comp.xtc: 205kB [00:00, 1.16MB/s]                            "
     ]
    },
    {
     "name": "stdout",
     "output_type": "stream",
     "text": [
      "\n",
      "Processing P14823_R0_C0_G156\n"
     ]
    },
    {
     "name": "stderr",
     "output_type": "stream",
     "text": [
      "\n",
      "traj_comp.xtc: 213kB [00:00, 1.18MB/s]                            "
     ]
    },
    {
     "name": "stdout",
     "output_type": "stream",
     "text": [
      "\n",
      "Processing P14823_R0_C0_G157\n"
     ]
    },
    {
     "name": "stderr",
     "output_type": "stream",
     "text": [
      "\n",
      "traj_comp.xtc: 213kB [00:00, 1.14MB/s]                            "
     ]
    },
    {
     "name": "stdout",
     "output_type": "stream",
     "text": [
      "\n",
      "Processing P14823_R0_C0_G158\n"
     ]
    },
    {
     "name": "stderr",
     "output_type": "stream",
     "text": [
      "\n",
      "traj_comp.xtc:   4%|▍         | 8.19k/208k [00:00<00:03, 53.5kB/s]"
     ]
    },
    {
     "name": "stdout",
     "output_type": "stream",
     "text": [
      "\n",
      "Processing P14823_R0_C0_G159\n"
     ]
    },
    {
     "name": "stderr",
     "output_type": "stream",
     "text": [
      "traj_comp.xtc: 213kB [00:00, 1.05MB/s]                            \n",
      "traj_comp.xtc: 205kB [00:00, 1.12MB/s]                            "
     ]
    },
    {
     "name": "stdout",
     "output_type": "stream",
     "text": [
      "\n",
      "Processing P14823_R0_C0_G160\n"
     ]
    },
    {
     "name": "stderr",
     "output_type": "stream",
     "text": [
      "\n",
      "traj_comp.xtc: 205kB [00:00, 1.02MB/s]                            "
     ]
    },
    {
     "name": "stdout",
     "output_type": "stream",
     "text": [
      "\n",
      "Processing P14823_R0_C0_G161\n"
     ]
    },
    {
     "name": "stderr",
     "output_type": "stream",
     "text": [
      "\n",
      "traj_comp.xtc: 205kB [00:00, 1.12MB/s]                            "
     ]
    },
    {
     "name": "stdout",
     "output_type": "stream",
     "text": [
      "\n",
      "Processing P14823_R0_C0_G162\n"
     ]
    },
    {
     "name": "stderr",
     "output_type": "stream",
     "text": [
      "\n",
      "traj_comp.xtc:   4%|▍         | 8.19k/204k [00:00<00:04, 47.7kB/s]"
     ]
    },
    {
     "name": "stdout",
     "output_type": "stream",
     "text": [
      "\n",
      "Processing P14823_R0_C0_G163\n"
     ]
    },
    {
     "name": "stderr",
     "output_type": "stream",
     "text": [
      "traj_comp.xtc: 205kB [00:00, 988kB/s]                             \n",
      "traj_comp.xtc: 205kB [00:00, 1.14MB/s]                            "
     ]
    },
    {
     "name": "stdout",
     "output_type": "stream",
     "text": [
      "\n",
      "Processing P14823_R0_C0_G164\n"
     ]
    },
    {
     "name": "stderr",
     "output_type": "stream",
     "text": [
      "\n",
      "traj_comp.xtc: 213kB [00:00, 1.16MB/s]                            "
     ]
    },
    {
     "name": "stdout",
     "output_type": "stream",
     "text": [
      "\n",
      "Processing P14823_R0_C0_G165\n"
     ]
    },
    {
     "name": "stderr",
     "output_type": "stream",
     "text": [
      "\n",
      "traj_comp.xtc: 213kB [00:00, 1.12MB/s]                            "
     ]
    },
    {
     "name": "stdout",
     "output_type": "stream",
     "text": [
      "\n",
      "Processing P14823_R0_C0_G166\n"
     ]
    },
    {
     "name": "stderr",
     "output_type": "stream",
     "text": [
      "\n",
      "traj_comp.xtc: 213kB [00:00, 1.14MB/s]                            "
     ]
    },
    {
     "name": "stdout",
     "output_type": "stream",
     "text": [
      "\n",
      "Processing P14823_R0_C0_G167\n"
     ]
    },
    {
     "name": "stderr",
     "output_type": "stream",
     "text": [
      "\n",
      "traj_comp.xtc: 213kB [00:00, 1.19MB/s]                            "
     ]
    },
    {
     "name": "stdout",
     "output_type": "stream",
     "text": [
      "\n",
      "Processing P14823_R0_C0_G168\n"
     ]
    },
    {
     "name": "stderr",
     "output_type": "stream",
     "text": [
      "\n",
      "traj_comp.xtc: 213kB [00:00, 1.29MB/s]                            "
     ]
    },
    {
     "name": "stdout",
     "output_type": "stream",
     "text": [
      "\n",
      "Processing P14823_R0_C0_G169\n"
     ]
    },
    {
     "name": "stderr",
     "output_type": "stream",
     "text": [
      "\n",
      "traj_comp.xtc: 213kB [00:00, 1.26MB/s]                            "
     ]
    },
    {
     "name": "stdout",
     "output_type": "stream",
     "text": [
      "\n",
      "Processing P14823_R0_C0_G170\n"
     ]
    },
    {
     "name": "stderr",
     "output_type": "stream",
     "text": [
      "\n",
      "traj_comp.xtc: 213kB [00:00, 1.18MB/s]                            "
     ]
    },
    {
     "name": "stdout",
     "output_type": "stream",
     "text": [
      "\n",
      "Processing P14823_R0_C0_G171\n"
     ]
    },
    {
     "name": "stderr",
     "output_type": "stream",
     "text": [
      "\n",
      "traj_comp.xtc: 213kB [00:00, 1.09MB/s]                            "
     ]
    },
    {
     "name": "stdout",
     "output_type": "stream",
     "text": [
      "\n",
      "Processing P14823_R0_C0_G172\n"
     ]
    },
    {
     "name": "stderr",
     "output_type": "stream",
     "text": [
      "\n",
      "traj_comp.xtc: 213kB [00:00, 1.09MB/s]                            "
     ]
    },
    {
     "name": "stdout",
     "output_type": "stream",
     "text": [
      "\n",
      "Processing P14823_R0_C0_G173\n"
     ]
    },
    {
     "name": "stderr",
     "output_type": "stream",
     "text": [
      "\n",
      "traj_comp.xtc: 213kB [00:00, 1.21MB/s]                            "
     ]
    },
    {
     "name": "stdout",
     "output_type": "stream",
     "text": [
      "\n",
      "Processing P14823_R0_C0_G174\n"
     ]
    },
    {
     "name": "stderr",
     "output_type": "stream",
     "text": [
      "\n",
      "traj_comp.xtc: 213kB [00:00, 1.17MB/s]                            "
     ]
    },
    {
     "name": "stdout",
     "output_type": "stream",
     "text": [
      "\n",
      "Processing P14823_R0_C0_G175\n"
     ]
    },
    {
     "name": "stderr",
     "output_type": "stream",
     "text": [
      "\n",
      "traj_comp.xtc: 213kB [00:00, 1.18MB/s]                            "
     ]
    },
    {
     "name": "stdout",
     "output_type": "stream",
     "text": [
      "\n",
      "Processing P14823_R0_C0_G176\n"
     ]
    },
    {
     "name": "stderr",
     "output_type": "stream",
     "text": [
      "\n",
      "traj_comp.xtc: 213kB [00:00, 1.08MB/s]                            "
     ]
    },
    {
     "name": "stdout",
     "output_type": "stream",
     "text": [
      "\n",
      "Processing P14823_R0_C0_G177\n"
     ]
    },
    {
     "name": "stderr",
     "output_type": "stream",
     "text": [
      "\n",
      "traj_comp.xtc: 213kB [00:00, 1.22MB/s]                            "
     ]
    },
    {
     "name": "stdout",
     "output_type": "stream",
     "text": [
      "\n",
      "Processing P14823_R0_C0_G178\n"
     ]
    },
    {
     "name": "stderr",
     "output_type": "stream",
     "text": [
      "\n",
      "traj_comp.xtc: 213kB [00:00, 1.13MB/s]                            "
     ]
    },
    {
     "name": "stdout",
     "output_type": "stream",
     "text": [
      "\n",
      "Processing P14823_R0_C0_G179\n"
     ]
    },
    {
     "name": "stderr",
     "output_type": "stream",
     "text": [
      "\n",
      "traj_comp.xtc: 213kB [00:00, 1.13MB/s]                            "
     ]
    },
    {
     "name": "stdout",
     "output_type": "stream",
     "text": [
      "\n",
      "Processing P14823_R0_C0_G180\n"
     ]
    },
    {
     "name": "stderr",
     "output_type": "stream",
     "text": [
      "\n",
      "traj_comp.xtc: 213kB [00:00, 1.11MB/s]                            "
     ]
    },
    {
     "name": "stdout",
     "output_type": "stream",
     "text": [
      "\n",
      "Processing P14823_R0_C0_G181\n"
     ]
    },
    {
     "name": "stderr",
     "output_type": "stream",
     "text": [
      "\n",
      "traj_comp.xtc: 213kB [00:00, 1.11MB/s]                            "
     ]
    },
    {
     "name": "stdout",
     "output_type": "stream",
     "text": [
      "\n",
      "Processing P14823_R0_C0_G182\n"
     ]
    },
    {
     "name": "stderr",
     "output_type": "stream",
     "text": [
      "\n",
      "traj_comp.xtc: 213kB [00:00, 1.12MB/s]                            "
     ]
    },
    {
     "name": "stdout",
     "output_type": "stream",
     "text": [
      "\n",
      "Processing P14823_R0_C0_G183\n"
     ]
    },
    {
     "name": "stderr",
     "output_type": "stream",
     "text": [
      "\n",
      "traj_comp.xtc: 213kB [00:00, 1.14MB/s]                            "
     ]
    },
    {
     "name": "stdout",
     "output_type": "stream",
     "text": [
      "\n",
      "Processing P14823_R0_C0_G184\n"
     ]
    },
    {
     "name": "stderr",
     "output_type": "stream",
     "text": [
      "\n",
      "traj_comp.xtc: 213kB [00:00, 1.06MB/s]                            "
     ]
    },
    {
     "name": "stdout",
     "output_type": "stream",
     "text": [
      "\n",
      "Processing P14823_R0_C0_G185\n"
     ]
    },
    {
     "name": "stderr",
     "output_type": "stream",
     "text": [
      "\n",
      "traj_comp.xtc: 213kB [00:00, 1.12MB/s]                            "
     ]
    },
    {
     "name": "stdout",
     "output_type": "stream",
     "text": [
      "\n",
      "Processing P14823_R0_C0_G186\n"
     ]
    },
    {
     "name": "stderr",
     "output_type": "stream",
     "text": [
      "\n",
      "traj_comp.xtc: 213kB [00:00, 1.18MB/s]                            "
     ]
    },
    {
     "name": "stdout",
     "output_type": "stream",
     "text": [
      "\n",
      "Processing P14823_R0_C0_G187\n"
     ]
    },
    {
     "name": "stderr",
     "output_type": "stream",
     "text": [
      "\n",
      "traj_comp.xtc: 213kB [00:00, 1.09MB/s]                            "
     ]
    },
    {
     "name": "stdout",
     "output_type": "stream",
     "text": [
      "\n",
      "Processing P14823_R0_C0_G188\n"
     ]
    },
    {
     "name": "stderr",
     "output_type": "stream",
     "text": [
      "\n",
      "traj_comp.xtc: 213kB [00:00, 1.17MB/s]                            "
     ]
    },
    {
     "name": "stdout",
     "output_type": "stream",
     "text": [
      "\n",
      "Processing P14823_R0_C0_G189\n"
     ]
    },
    {
     "name": "stderr",
     "output_type": "stream",
     "text": [
      "\n",
      "traj_comp.xtc: 213kB [00:00, 1.27MB/s]                            "
     ]
    },
    {
     "name": "stdout",
     "output_type": "stream",
     "text": [
      "\n",
      "Processing P14823_R0_C0_G190\n"
     ]
    },
    {
     "name": "stderr",
     "output_type": "stream",
     "text": [
      "\n",
      "traj_comp.xtc:   4%|▍         | 8.19k/211k [00:00<00:03, 54.1kB/s]"
     ]
    },
    {
     "name": "stdout",
     "output_type": "stream",
     "text": [
      "\n",
      "Processing P14823_R0_C0_G191\n"
     ]
    },
    {
     "name": "stderr",
     "output_type": "stream",
     "text": [
      "traj_comp.xtc: 213kB [00:00, 1.07MB/s]                            \n",
      "traj_comp.xtc: 213kB [00:00, 1.07MB/s]                            "
     ]
    },
    {
     "name": "stdout",
     "output_type": "stream",
     "text": [
      "\n",
      "Processing P14823_R0_C0_G192\n"
     ]
    },
    {
     "name": "stderr",
     "output_type": "stream",
     "text": [
      "\n",
      "traj_comp.xtc: 213kB [00:00, 1.15MB/s]                            "
     ]
    },
    {
     "name": "stdout",
     "output_type": "stream",
     "text": [
      "\n",
      "Processing P14823_R0_C0_G193\n"
     ]
    },
    {
     "name": "stderr",
     "output_type": "stream",
     "text": [
      "\n",
      "traj_comp.xtc: 213kB [00:00, 1.17MB/s]                            "
     ]
    },
    {
     "name": "stdout",
     "output_type": "stream",
     "text": [
      "\n",
      "Processing P14823_R0_C0_G194\n"
     ]
    },
    {
     "name": "stderr",
     "output_type": "stream",
     "text": [
      "\n",
      "traj_comp.xtc:   4%|▍         | 8.19k/210k [00:00<00:04, 47.5kB/s]"
     ]
    },
    {
     "name": "stdout",
     "output_type": "stream",
     "text": [
      "\n",
      "Processing P14823_R0_C0_G195\n"
     ]
    },
    {
     "name": "stderr",
     "output_type": "stream",
     "text": [
      "traj_comp.xtc: 213kB [00:00, 1.03MB/s]                            \n",
      "traj_comp.xtc:   4%|▍         | 8.19k/210k [00:00<00:04, 47.1kB/s]"
     ]
    },
    {
     "name": "stdout",
     "output_type": "stream",
     "text": [
      "\n",
      "Processing P14823_R0_C0_G196\n"
     ]
    },
    {
     "name": "stderr",
     "output_type": "stream",
     "text": [
      "traj_comp.xtc: 213kB [00:00, 1.02MB/s]                            \n",
      "traj_comp.xtc:   4%|▍         | 8.19k/211k [00:00<00:04, 46.2kB/s]"
     ]
    },
    {
     "name": "stdout",
     "output_type": "stream",
     "text": [
      "\n",
      "Processing P14823_R0_C0_G197\n"
     ]
    },
    {
     "name": "stderr",
     "output_type": "stream",
     "text": [
      "traj_comp.xtc: 213kB [00:00, 946kB/s]                             \n",
      "traj_comp.xtc: 213kB [00:00, 1.15MB/s]                            "
     ]
    },
    {
     "name": "stdout",
     "output_type": "stream",
     "text": [
      "\n",
      "Processing P14823_R0_C0_G198\n"
     ]
    },
    {
     "name": "stderr",
     "output_type": "stream",
     "text": [
      "\n",
      "traj_comp.xtc:   4%|▍         | 8.19k/208k [00:00<00:04, 47.8kB/s]"
     ]
    },
    {
     "name": "stdout",
     "output_type": "stream",
     "text": [
      "\n",
      "Processing P14823_R0_C0_G199\n"
     ]
    },
    {
     "name": "stderr",
     "output_type": "stream",
     "text": [
      "traj_comp.xtc: 213kB [00:00, 1.03MB/s]                            \n",
      "traj_comp.xtc: 213kB [00:00, 1.15MB/s]                            "
     ]
    },
    {
     "name": "stdout",
     "output_type": "stream",
     "text": [
      "\n",
      "Processing P14823_R0_C0_G200\n"
     ]
    },
    {
     "name": "stderr",
     "output_type": "stream",
     "text": [
      "\n",
      "traj_comp.xtc: 213kB [00:00, 1.11MB/s]                            "
     ]
    },
    {
     "name": "stdout",
     "output_type": "stream",
     "text": [
      "\n",
      "Processing P14823_R0_C0_G201\n"
     ]
    },
    {
     "name": "stderr",
     "output_type": "stream",
     "text": [
      "\n",
      "traj_comp.xtc: 213kB [00:00, 1.18MB/s]                            "
     ]
    },
    {
     "name": "stdout",
     "output_type": "stream",
     "text": [
      "\n",
      "Processing P14823_R0_C0_G202\n"
     ]
    },
    {
     "name": "stderr",
     "output_type": "stream",
     "text": [
      "\n",
      "traj_comp.xtc: 213kB [00:00, 1.08MB/s]                            "
     ]
    },
    {
     "name": "stdout",
     "output_type": "stream",
     "text": [
      "\n",
      "Processing P14823_R0_C0_G203\n"
     ]
    },
    {
     "name": "stderr",
     "output_type": "stream",
     "text": [
      "\n",
      "traj_comp.xtc: 213kB [00:00, 1.14MB/s]                            "
     ]
    },
    {
     "name": "stdout",
     "output_type": "stream",
     "text": [
      "\n",
      "Processing P14823_R0_C0_G204\n"
     ]
    },
    {
     "name": "stderr",
     "output_type": "stream",
     "text": [
      "\n",
      "traj_comp.xtc: 213kB [00:00, 1.18MB/s]                            "
     ]
    },
    {
     "name": "stdout",
     "output_type": "stream",
     "text": [
      "\n",
      "Processing P14823_R0_C0_G205\n"
     ]
    },
    {
     "name": "stderr",
     "output_type": "stream",
     "text": [
      "\n",
      "traj_comp.xtc:   4%|▍         | 8.19k/206k [00:00<00:04, 47.3kB/s]"
     ]
    },
    {
     "name": "stdout",
     "output_type": "stream",
     "text": [
      "\n",
      "Processing P14823_R0_C0_G206\n"
     ]
    },
    {
     "name": "stderr",
     "output_type": "stream",
     "text": [
      "traj_comp.xtc: 213kB [00:00, 1.03MB/s]                            \n",
      "traj_comp.xtc: 213kB [00:00, 1.33MB/s]                            "
     ]
    },
    {
     "name": "stdout",
     "output_type": "stream",
     "text": [
      "\n",
      "Processing P14823_R0_C0_G207\n"
     ]
    },
    {
     "name": "stderr",
     "output_type": "stream",
     "text": [
      "\n",
      "traj_comp.xtc: 213kB [00:00, 1.07MB/s]                            "
     ]
    },
    {
     "name": "stdout",
     "output_type": "stream",
     "text": [
      "\n",
      "Processing P14823_R0_C0_G208\n"
     ]
    },
    {
     "name": "stderr",
     "output_type": "stream",
     "text": [
      "\n",
      "traj_comp.xtc: 213kB [00:00, 1.15MB/s]                            "
     ]
    },
    {
     "name": "stdout",
     "output_type": "stream",
     "text": [
      "\n",
      "Processing P14823_R0_C0_G209\n"
     ]
    },
    {
     "name": "stderr",
     "output_type": "stream",
     "text": [
      "\n",
      "traj_comp.xtc: 213kB [00:00, 1.20MB/s]                            "
     ]
    },
    {
     "name": "stdout",
     "output_type": "stream",
     "text": [
      "\n",
      "Processing P14823_R0_C0_G210\n"
     ]
    },
    {
     "name": "stderr",
     "output_type": "stream",
     "text": [
      "\n",
      "traj_comp.xtc:   4%|▍         | 8.19k/204k [00:00<00:04, 44.1kB/s]"
     ]
    },
    {
     "name": "stdout",
     "output_type": "stream",
     "text": [
      "\n",
      "Processing P14823_R0_C0_G211\n"
     ]
    },
    {
     "name": "stderr",
     "output_type": "stream",
     "text": [
      "traj_comp.xtc: 205kB [00:00, 931kB/s]                             \n",
      "traj_comp.xtc: 205kB [00:00, 1.25MB/s]                            "
     ]
    },
    {
     "name": "stdout",
     "output_type": "stream",
     "text": [
      "\n",
      "Processing P14823_R0_C0_G212\n"
     ]
    },
    {
     "name": "stderr",
     "output_type": "stream",
     "text": [
      "\n",
      "traj_comp.xtc: 213kB [00:00, 1.06MB/s]                            "
     ]
    },
    {
     "name": "stdout",
     "output_type": "stream",
     "text": [
      "\n",
      "Processing P14823_R0_C0_G213\n"
     ]
    },
    {
     "name": "stderr",
     "output_type": "stream",
     "text": [
      "\n",
      "traj_comp.xtc: 213kB [00:00, 1.24MB/s]                            "
     ]
    },
    {
     "name": "stdout",
     "output_type": "stream",
     "text": [
      "\n",
      "Processing P14823_R0_C0_G214\n"
     ]
    },
    {
     "name": "stderr",
     "output_type": "stream",
     "text": [
      "\n",
      "traj_comp.xtc: 0.00B [00:00, ?B/s]"
     ]
    },
    {
     "name": "stdout",
     "output_type": "stream",
     "text": [
      "\n",
      "Processing P14823_R0_C0_G215\n"
     ]
    },
    {
     "name": "stderr",
     "output_type": "stream",
     "text": [
      "traj_comp.xtc: 213kB [00:00, 834kB/s]                             \n",
      "traj_comp.xtc: 213kB [00:00, 1.18MB/s]                            "
     ]
    },
    {
     "name": "stdout",
     "output_type": "stream",
     "text": [
      "\n",
      "Processing P14823_R0_C0_G216\n"
     ]
    },
    {
     "name": "stderr",
     "output_type": "stream",
     "text": [
      "\n",
      "traj_comp.xtc: 213kB [00:00, 1.15MB/s]                            "
     ]
    },
    {
     "name": "stdout",
     "output_type": "stream",
     "text": [
      "\n",
      "Processing P14823_R0_C0_G217\n"
     ]
    },
    {
     "name": "stderr",
     "output_type": "stream",
     "text": [
      "\n",
      "traj_comp.xtc:   4%|▍         | 8.19k/206k [00:00<00:03, 52.2kB/s]"
     ]
    },
    {
     "name": "stdout",
     "output_type": "stream",
     "text": [
      "\n",
      "Processing P14823_R0_C0_G218\n"
     ]
    },
    {
     "name": "stderr",
     "output_type": "stream",
     "text": [
      "traj_comp.xtc: 213kB [00:00, 812kB/s]                             \n",
      "traj_comp.xtc: 213kB [00:00, 1.13MB/s]                            "
     ]
    },
    {
     "name": "stdout",
     "output_type": "stream",
     "text": [
      "\n",
      "Processing P14823_R0_C0_G219\n"
     ]
    },
    {
     "name": "stderr",
     "output_type": "stream",
     "text": [
      "\n",
      "traj_comp.xtc:   4%|▍         | 8.19k/207k [00:00<00:04, 45.4kB/s]"
     ]
    },
    {
     "name": "stdout",
     "output_type": "stream",
     "text": [
      "\n",
      "Processing P14823_R0_C0_G220\n"
     ]
    },
    {
     "name": "stderr",
     "output_type": "stream",
     "text": [
      "traj_comp.xtc: 213kB [00:00, 989kB/s]                             \n",
      "traj_comp.xtc: 213kB [00:00, 1.11MB/s]                            "
     ]
    },
    {
     "name": "stdout",
     "output_type": "stream",
     "text": [
      "\n",
      "Processing P14823_R0_C0_G221\n"
     ]
    },
    {
     "name": "stderr",
     "output_type": "stream",
     "text": [
      "\n",
      "traj_comp.xtc: 213kB [00:00, 1.11MB/s]                            "
     ]
    },
    {
     "name": "stdout",
     "output_type": "stream",
     "text": [
      "\n",
      "Processing P14823_R0_C0_G222\n"
     ]
    },
    {
     "name": "stderr",
     "output_type": "stream",
     "text": [
      "\n",
      "traj_comp.xtc: 213kB [00:00, 1.17MB/s]                            "
     ]
    },
    {
     "name": "stdout",
     "output_type": "stream",
     "text": [
      "\n",
      "Processing P14823_R0_C0_G223\n"
     ]
    },
    {
     "name": "stderr",
     "output_type": "stream",
     "text": [
      "\n",
      "traj_comp.xtc: 213kB [00:00, 1.26MB/s]                            "
     ]
    },
    {
     "name": "stdout",
     "output_type": "stream",
     "text": [
      "\n",
      "Processing P14823_R0_C0_G224\n"
     ]
    },
    {
     "name": "stderr",
     "output_type": "stream",
     "text": [
      "\n",
      "traj_comp.xtc: 213kB [00:00, 1.16MB/s]                            "
     ]
    },
    {
     "name": "stdout",
     "output_type": "stream",
     "text": [
      "\n",
      "Processing P14823_R0_C0_G225\n"
     ]
    },
    {
     "name": "stderr",
     "output_type": "stream",
     "text": [
      "\n",
      "traj_comp.xtc: 205kB [00:00, 1.05MB/s]                            "
     ]
    },
    {
     "name": "stdout",
     "output_type": "stream",
     "text": [
      "\n",
      "Processing P14823_R0_C0_G226\n"
     ]
    },
    {
     "name": "stderr",
     "output_type": "stream",
     "text": [
      "\n",
      "traj_comp.xtc: 205kB [00:00, 1.16MB/s]                            "
     ]
    },
    {
     "name": "stdout",
     "output_type": "stream",
     "text": [
      "\n",
      "Processing P14823_R0_C0_G227\n"
     ]
    },
    {
     "name": "stderr",
     "output_type": "stream",
     "text": [
      "\n",
      "traj_comp.xtc: 205kB [00:00, 1.24MB/s]                            "
     ]
    },
    {
     "name": "stdout",
     "output_type": "stream",
     "text": [
      "\n",
      "Processing P14823_R0_C0_G228\n"
     ]
    },
    {
     "name": "stderr",
     "output_type": "stream",
     "text": [
      "\n",
      "traj_comp.xtc: 205kB [00:00, 1.15MB/s]                            "
     ]
    },
    {
     "name": "stdout",
     "output_type": "stream",
     "text": [
      "\n",
      "Processing P14823_R0_C0_G229\n"
     ]
    },
    {
     "name": "stderr",
     "output_type": "stream",
     "text": [
      "\n",
      "traj_comp.xtc: 205kB [00:00, 1.15MB/s]                            "
     ]
    },
    {
     "name": "stdout",
     "output_type": "stream",
     "text": [
      "\n",
      "Processing P14823_R0_C0_G230\n"
     ]
    },
    {
     "name": "stderr",
     "output_type": "stream",
     "text": [
      "\n",
      "traj_comp.xtc: 205kB [00:00, 1.03MB/s]                            "
     ]
    },
    {
     "name": "stdout",
     "output_type": "stream",
     "text": [
      "\n",
      "Processing P14823_R0_C0_G231\n"
     ]
    },
    {
     "name": "stderr",
     "output_type": "stream",
     "text": [
      "\n",
      "traj_comp.xtc:   4%|▍         | 8.19k/203k [00:00<00:04, 48.5kB/s]"
     ]
    },
    {
     "name": "stdout",
     "output_type": "stream",
     "text": [
      "\n",
      "Processing P14823_R0_C0_G232\n"
     ]
    },
    {
     "name": "stderr",
     "output_type": "stream",
     "text": [
      "traj_comp.xtc: 205kB [00:00, 1.00MB/s]                            \n",
      "traj_comp.xtc: 0.00B [00:00, ?B/s]"
     ]
    },
    {
     "name": "stdout",
     "output_type": "stream",
     "text": [
      "\n",
      "Processing P14823_R0_C0_G233\n",
      "HTTP Error 404: Not Found\n"
     ]
    },
    {
     "name": "stderr",
     "output_type": "stream",
     "text": [
      "\n"
     ]
    }
   ],
   "source": [
    "### pull data down from AWS and post-process trajectories\n",
    "\n",
    "# download xtc and (gro/top)\n",
    "\n",
    "url_prefix = 'https://fah-public-data-covid19-absolute-free-energy.s3.us-east-2.amazonaws.com'\n",
    "project = 14823\n",
    "runs = range(1) # just RUN0\n",
    "clones = range(1) # just CLONE0\n",
    "for run in runs:\n",
    "    for clone in clones:\n",
    "        \n",
    "        PRC_dir = f'data/P{project}_R{run}_C{clone}'\n",
    "        if not os.path.exists(PRC_dir):\n",
    "            os.makedirs(PRC_dir)\n",
    "        download(f'{url_prefix}/setup_files/p{project}/RUN0/npt.gro',\n",
    "          f'data/P{project}_R{run}_C{clone}/npt.gro')\n",
    "        download(f'{url_prefix}/setup_files/p{project}/RUN0/topol.top',\n",
    "          f'data/P{project}_R{run}_C{clone}/topol.top')\n",
    "        gen = 0\n",
    "        while True:\n",
    "            try:\n",
    "                print(f'\\nProcessing P{project}_R{run}_C{clone}_G{gen}')\n",
    "                download(f'{url_prefix}/PROJ{project}/RUN{run}/CLONE{clone}/results{gen}/traj_comp.xtc',\n",
    "                  f'data/P{project}_R{run}_C{clone}/traj_comp.xtc')\n",
    "            except Exception as e:\n",
    "                print(e)\n",
    "                break\n",
    "            \n",
    "            path = f'data/P{project}_R{run}_C{clone}'\n",
    "            \n",
    "            ### WARNING:  This next section needs an installation of gmx in your path to work!!!!\n",
    "            \n",
    "            # Step 1: Build a custom *.tpr for the subset of atoms (molecules \"LIG\" and \"system1\") in the *.xtc trajectories\n",
    "            \n",
    "            ## write a dummy *.mdp for minimization (we will need a tpr for trjconv)\n",
    "            write_mdp_cmd = f'echo \"integrator          = steep\" > {path}/xtc.mdp'\n",
    "            run_cmd(write_mdp_cmd)\n",
    "            \n",
    "            ## make an index file for just the atoms in the xtc\n",
    "            \"\"\"Example:\n",
    "              0 System              : 54272 atoms\n",
    "              1 Other               :    64 atoms\n",
    "              2 LIG                 :    64 atoms\n",
    "              3 NA                  :    30 atoms\n",
    "              4 CL                  :    30 atoms\n",
    "         ---> 5 Protein             :  4657 atoms\n",
    "              6 Protein-H           :  2352 atoms\n",
    "            \"\"\"\n",
    "            make_index_cmd = f'echo \"5|2\\nq\\n\" | gmx make_ndx -f {path}/npt.gro -o {path}/index.ndx'\n",
    "            run_cmd(make_index_cmd)\n",
    "            \n",
    "            # make a (.top) for xtc atoms, omitting the last three lines:\n",
    "            \"\"\"\n",
    "            [ molecules ]\n",
    "            ; Compound       #mols\n",
    "            LIG                  1\n",
    "            system1              1\n",
    "     omit X HOH              16497\n",
    "     omit X NA                  30\n",
    "     omit X CL                  30\n",
    "            \"\"\"\n",
    "            fin = open(f'{path}/topol.top', 'r')\n",
    "            topol_lines = fin.readlines()\n",
    "            fin.close()\n",
    "            fout = open(f'{path}/xtc.top', 'w')\n",
    "            fout.writelines(topol_lines[:-3])\n",
    "            fout.close()\n",
    "            \n",
    "            # write a *.gro file for just the xtc atoms\n",
    "            make_xtcgro_cmd = f'echo \"24\\n\" | gmx editconf -f {path}/npt.gro -n {path}/index.ndx -o {path}/xtc.gro'\n",
    "            run_cmd(make_xtcgro_cmd)\n",
    "\n",
    "            # write a *.ndx file for just the xtc atoms\n",
    "            make_xtcndx_cmd = f'echo \"3|2\\nq\\n\" | gmx make_ndx -f {path}/xtc.gro -o {path}/xtc.ndx'\n",
    "            run_cmd(make_xtcndx_cmd)\n",
    "            \n",
    "            # gmx grompp to make a fake *.tpr\n",
    "            make_xtctpr_cmd = f'gmx grompp -f {path}/xtc.mdp -c {path}/xtc.gro -p {path}/xtc.top -o {path}/xtc.tpr'\n",
    "            run_cmd(make_xtctpr_cmd)\n",
    "            \n",
    "            # gmx trjconv for PBC correction\n",
    "            pbc_correct_cmd = f'echo \"3\\n14\\n\" | gmx trjconv -f {path}/traj_comp.xtc -s {path}/xtc.tpr -n {path}/xtc.ndx -pbc mol -center -o {path}/traj_{str(gen).zfill(4)}.xtc'\n",
    "            run_cmd(pbc_correct_cmd)\n",
    "            \n",
    "            # for cmd in [write_mdp_cmd, make_index_cmd, make_xtctop_cmd, make_xtcgro_cmd,\n",
    "            #    make_xtcndx_cmd, make_xtctpr_cmd, pbc_correct_cmd]:\n",
    "            #    subprocess.check_output(cmd, stderr=subprocess.STDOUT,shell=True).decode().split('\\n')\n",
    "\n",
    "            #for cmd in [write_mdp_cmd, make_index_cmd]:\n",
    "            #    subprocess.check_output(cmd, stderr=subprocess.STDOUT,shell=True).decode().split('\\n')\n",
    "\n",
    "                \n",
    "                \n",
    "            \n",
    "            traj = md.load(f'{path}/traj_{str(gen).zfill(4)}.xtc',top = f'{path}/xtc.gro')\n",
    "            PHE140_indices = [a.index for a in traj.topology.atoms if a.residue.index in [141] and a.name in ['CG','CD1','CD2','CE1','CE2','CZ']]\n",
    "            HIS163_indices = [a.index for a in traj.topology.atoms if a.residue.index in [164]and a.name in ['CG','ND1','CD2','CE1','NE2']]\n",
    "            traj_PHE140_indices = traj.atom_slice(PHE140_indices)\n",
    "            traj_HIS163_indices = traj.atom_slice(HIS163_indices)\n",
    "            coords_PHE140_com = md.compute_center_of_mass(traj_PHE140_indices)\n",
    "            coords_HIS163_com = md.compute_center_of_mass(traj_HIS163_indices)\n",
    "            hacked_traj = traj\n",
    "\n",
    "            ## creating hacked traj 0 and 1\n",
    "            hacked_traj.xyz[:,0,:] = coords_PHE140_com # PHE140 trajectory\n",
    "            hacked_traj.xyz[:,1,:] = coords_HIS163_com # HIS163 trajectory\n",
    "\n",
    "\n",
    "            ## computing the distance between the center of mass of the PHE140 and HIS163 ring\n",
    "            PHE140_HIS163_distances = md.compute_distances(hacked_traj, [[0,1]])[:,0]\n",
    "            np.save(f'{path}/PHE140_HIS163_distnces_G{str(gen).zfill(4)}', PHE140_HIS163_distances)\n",
    "\n",
    "            gen += 1\n",
    "        \n",
    "            # file_list = ['traj_comp.xtc','xtc.mdp','xtc.top','xtc.ndx','xtc.gro','xtc.tpr','index.ndx']\n",
    "            file_list = ['traj_comp.xtc','xtc.mdp','xtc.top','xtc.ndx','xtc.tpr']\n",
    "            for file in glob.glob(f'{path}/*'):\n",
    "                if any(substring in file for substring in file_list):\n",
    "                    os.remove(file)\n",
    "                    \n",
    "            # remove backups:\n",
    "            for file in glob.glob(f'{path}/#*'):\n",
    "                os.remove(file)\n",
    "                    \n",
    "           #gen += 1\n"
   ]
  },
  {
   "cell_type": "code",
   "execution_count": 11,
   "metadata": {},
   "outputs": [
    {
     "data": {
      "text/plain": [
       "[';\\n',\n",
       " ';   File MS03262020_RL/MS03262020_LIG1/topol.top  was generated\\n',\n",
       " ';   By user: tug27224 (40003)\\n',\n",
       " ';   On host: g008\\n',\n",
       " ';   At date: Sat. March  6 03:11:15 2020\\n',\n",
       " ';\\n',\n",
       " ';   This is a standalone topology file\\n',\n",
       " ';\\n',\n",
       " ';   Created by:\\n',\n",
       " ';   ParmEd:       simulate.py, VERSION 3.2.0\\n',\n",
       " ';   Executable:   simulate.py\\n',\n",
       " ';   Library dir:  /usr/local/gromacs/share/gromacs/top\\n',\n",
       " ';   Command line:\\n',\n",
       " ';     simulate.py 1 100 0\\n',\n",
       " ';\\n',\n",
       " '\\n',\n",
       " '[ defaults ]\\n',\n",
       " '; nbfunc        comb-rule       gen-pairs       fudgeLJ fudgeQQ\\n',\n",
       " '1               2               no              1            0.83333333  \\n',\n",
       " '\\n',\n",
       " '[ atomtypes ]\\n',\n",
       " '; name    at.num    mass    charge ptype  sigma      epsilon\\n',\n",
       " 'C1             6  12.010780  0.00000000  A     0.33996695       0.359824\\n',\n",
       " 'C2             6  12.010780  0.00000000  A     0.33996695      0.4577296\\n',\n",
       " 'N1             7  14.006720  0.00000000  A     0.32499985        0.71128\\n',\n",
       " 'O1             8  15.999430  0.00000000  A     0.29599219        0.87864\\n',\n",
       " 'O2             8  15.999430  0.00000000  A     0.30000123        0.71128\\n',\n",
       " 'H1             1   4.000000  0.00000000  A     0.25996425        0.06276\\n',\n",
       " 'H2             1   4.000000  0.00000000  A     0.25105526        0.06276\\n',\n",
       " 'H3             1   4.000000  0.00000000  A      0.2471353      0.0656888\\n',\n",
       " 'H4             1   4.000000  0.00000000  A     0.19599772      0.0656888\\n',\n",
       " 'H5             1   4.000000  0.00000000  A     0.26495328      0.0656888\\n',\n",
       " 'H6             1   4.000000  0.00000000  A     0.10690785      0.0656888\\n',\n",
       " 'O3             8  15.999430  0.00000000  A     0.30664734      0.8803136\\n',\n",
       " 'H7             1   4.000000  0.00000000  A              1              0\\n',\n",
       " 'S1            16  32.065500  0.00000000  A     0.35635949          1.046\\n',\n",
       " 'H8             1   4.000000  0.00000000  A     0.24214627        0.06276\\n',\n",
       " 'O4             8  15.999430  0.00000000  A     0.31507524       0.635968\\n',\n",
       " 'Na1           11  22.989769  0.00000000  A     0.24392807     0.36584603\\n',\n",
       " 'Cl1           17  35.453200  0.00000000  A      0.4477657     0.14891274\\n',\n",
       " '\\n',\n",
       " '\\n',\n",
       " '[ moleculetype ]\\n',\n",
       " '; Name            nrexcl\\n',\n",
       " 'LIG          3\\n',\n",
       " '\\n',\n",
       " '[ atoms ]\\n',\n",
       " ';   nr       type  resnr residue  atom   cgnr    charge       mass  typeB    chargeB      massB\\n',\n",
       " '; residue    1 LIG rtp LIG q 1.0\\n',\n",
       " '    1         C1      1    LIG      C      1 -0.12600000  12.010780   ; qtot -0.126000\\n',\n",
       " '    2         C1      1    LIG      C      2 -0.12600000  12.010780   ; qtot -0.252000\\n',\n",
       " '    3         C1      1    LIG      C      3 -0.12350000  12.010780   ; qtot -0.375500\\n',\n",
       " '    4         C1      1    LIG      C      4 -0.12350000  12.010780   ; qtot -0.499000\\n',\n",
       " '    5         C1      1    LIG      C      5 -0.22130000  12.010780   ; qtot -0.720300\\n',\n",
       " '    6         C1      1    LIG      C      6 0.40020000  12.010780   ; qtot -0.320100\\n',\n",
       " '    7         C1      1    LIG      C      7 0.39520000  12.010780   ; qtot 0.075100\\n',\n",
       " '    8         C1      1    LIG      C      8 -0.06330000  12.010780   ; qtot 0.011800\\n',\n",
       " '    9         C1      1    LIG      C      9 -0.06230000  12.010780   ; qtot -0.050500\\n',\n",
       " '   10         C1      1    LIG      C     10 -0.09770000  12.010780   ; qtot -0.148200\\n',\n",
       " '   11         C1      1    LIG      C     11 0.04510000  12.010780   ; qtot -0.103100\\n',\n",
       " '   12         C1      1    LIG      C     12 0.64310000  12.010780   ; qtot 0.540000\\n',\n",
       " '   13         C1      1    LIG      C     13 0.67210000  12.010780   ; qtot 1.212100\\n',\n",
       " '   14         C2      1    LIG      C     14 0.08300000  12.010780   ; qtot 1.295100\\n',\n",
       " '   15         C2      1    LIG      C     15 0.08300000  12.010780   ; qtot 1.378100\\n',\n",
       " '   16         C2      1    LIG      C     16 0.09530000  12.010780   ; qtot 1.473400\\n',\n",
       " '   17         C2      1    LIG      C     17 0.09530000  12.010780   ; qtot 1.568700\\n',\n",
       " '   18         C2      1    LIG      C     18 -0.06080000  12.010780   ; qtot 1.507900\\n',\n",
       " '   19         C2      1    LIG      C     19 -0.06880000  12.010780   ; qtot 1.439100\\n',\n",
       " '   20         C2      1    LIG      C     20 0.07540000  12.010780   ; qtot 1.514500\\n',\n",
       " '   21         C2      1    LIG      C     21 -0.16540000  12.010780   ; qtot 1.349100\\n',\n",
       " '   22         C2      1    LIG      C     22 -0.08740000  12.010780   ; qtot 1.261700\\n',\n",
       " '   23         C2      1    LIG      C     23 -0.11040000  12.010780   ; qtot 1.151300\\n',\n",
       " '   24         C2      1    LIG      C     24 0.11280000  12.010780   ; qtot 1.264100\\n',\n",
       " '   25         N1      1    LIG      N     25 -0.64400000  14.006720   ; qtot 0.620100\\n',\n",
       " '   26         N1      1    LIG      N     26 -0.52080000  14.006720   ; qtot 0.099300\\n',\n",
       " '   27         N1      1    LIG      N     27 -0.42110000  14.006720   ; qtot -0.321800\\n',\n",
       " '   28         N1      1    LIG      N     28 -0.69040000  14.006720   ; qtot -1.012200\\n',\n",
       " '   29         O1      1    LIG      O     29 -0.54210000  15.999430   ; qtot -1.554300\\n',\n",
       " '   30         O1      1    LIG      O     30 -0.69010000  15.999430   ; qtot -2.244400\\n',\n",
       " '   31         O2      1    LIG      O     31 -0.30290000  15.999430   ; qtot -2.547300\\n',\n",
       " '   32         H1      1    LIG      H     32 0.14250000   4.000000   ; qtot -2.404800\\n',\n",
       " '   33         H1      1    LIG      H     33 0.14250000   4.000000   ; qtot -2.262300\\n',\n",
       " '   34         H1      1    LIG      H     34 0.15150000   4.000000   ; qtot -2.110800\\n',\n",
       " '   35         H1      1    LIG      H     35 0.15150000   4.000000   ; qtot -1.959300\\n',\n",
       " '   36         H1      1    LIG      H     36 0.15800000   4.000000   ; qtot -1.801300\\n',\n",
       " '   37         H2      1    LIG      H     37 0.04010000   4.000000   ; qtot -1.761200\\n',\n",
       " '   38         H2      1    LIG      H     38 0.04610000   4.000000   ; qtot -1.715100\\n',\n",
       " '   39         H3      1    LIG      H     39 0.08220000   4.000000   ; qtot -1.632900\\n',\n",
       " '   40         H3      1    LIG      H     40 0.08220000   4.000000   ; qtot -1.550700\\n',\n",
       " '   41         H3      1    LIG      H     41 0.08220000   4.000000   ; qtot -1.468500\\n',\n",
       " '   42         H3      1    LIG      H     42 0.08220000   4.000000   ; qtot -1.386300\\n',\n",
       " '   43         H4      1    LIG      H     43 0.11020000   4.000000   ; qtot -1.276100\\n',\n",
       " '   44         H4      1    LIG      H     44 0.11020000   4.000000   ; qtot -1.165900\\n',\n",
       " '   45         H4      1    LIG      H     45 0.11020000   4.000000   ; qtot -1.055700\\n',\n",
       " '   46         H4      1    LIG      H     46 0.11020000   4.000000   ; qtot -0.945500\\n',\n",
       " '   47         H5      1    LIG      H     47 0.05170000   4.000000   ; qtot -0.893800\\n',\n",
       " '   48         H5      1    LIG      H     48 0.05170000   4.000000   ; qtot -0.842100\\n',\n",
       " '   49         H5      1    LIG      H     49 0.05170000   4.000000   ; qtot -0.790400\\n',\n",
       " '   50         H5      1    LIG      H     50 0.05503300   4.000000   ; qtot -0.735367\\n',\n",
       " '   51         H5      1    LIG      H     51 0.05503300   4.000000   ; qtot -0.680334\\n',\n",
       " '   52         H5      1    LIG      H     52 0.05503300   4.000000   ; qtot -0.625301\\n',\n",
       " '   53         H3      1    LIG      H     53 0.07670000   4.000000   ; qtot -0.548601\\n',\n",
       " '   54         H3      1    LIG      H     54 0.07670000   4.000000   ; qtot -0.471901\\n',\n",
       " '   55         H5      1    LIG      H     55 0.07420000   4.000000   ; qtot -0.397701\\n',\n",
       " '   56         H5      1    LIG      H     56 0.07420000   4.000000   ; qtot -0.323501\\n',\n",
       " '   57         H5      1    LIG      H     57 0.07320000   4.000000   ; qtot -0.250301\\n',\n",
       " '   58         H5      1    LIG      H     58 0.07320000   4.000000   ; qtot -0.177101\\n',\n",
       " '   59         H5      1    LIG      H     59 0.08620000   4.000000   ; qtot -0.090901\\n',\n",
       " '   60         H5      1    LIG      H     60 0.08620000   4.000000   ; qtot -0.004701\\n',\n",
       " '   61         H4      1    LIG      H     61 0.09470000   4.000000   ; qtot 0.089999\\n',\n",
       " '   62         H4      1    LIG      H     62 0.09470000   4.000000   ; qtot 0.184699\\n',\n",
       " '   63         H6      1    LIG      H     63 0.33350000   4.000000   ; qtot 0.518199\\n',\n",
       " '   64         H6      1    LIG      H     64 0.48280000   4.000000   ; qtot 1.000999\\n',\n",
       " '\\n',\n",
       " '[ bonds ]\\n',\n",
       " ';    ai     aj funct         c0         c1         c2         c3\\n',\n",
       " '      1      3     1   0.13887 294464.131048\\n',\n",
       " '      1      8     1   0.13887 294464.131048\\n',\n",
       " '      1     32     1   0.10850 338091.700805\\n',\n",
       " '      2      4     1   0.13887 294464.131048\\n',\n",
       " '      2      8     1   0.13887 294464.131048\\n',\n",
       " '      2     33     1   0.10850 338091.700805\\n',\n",
       " '      3     11     1   0.13887 294464.131048\\n',\n",
       " '      3     34     1   0.10850 338091.700805\\n',\n",
       " '      4     11     1   0.13887 294464.131048\\n',\n",
       " '      4     35     1   0.10850 338091.700805\\n',\n",
       " '      5      6     1   0.13887 294464.131048\\n',\n",
       " '      5      9     1   0.13887 294464.131048\\n',\n",
       " '      5     36     1   0.10850 338091.700805\\n',\n",
       " '      6     25     1   0.13245 353524.664910\\n',\n",
       " '      6     37     1   0.10850 338091.700805\\n',\n",
       " '      7     10     1   0.13887 294464.131048\\n',\n",
       " '      7     25     1   0.13245 353524.664910\\n',\n",
       " '      7     38     1   0.10850 338091.700805\\n',\n",
       " '      8     18     1   0.15036 270692.588083\\n',\n",
       " '      9     10     1   0.13887 294464.131048\\n',\n",
       " '      9     19     1   0.15036 270692.588083\\n',\n",
       " '     10     27     1   0.13886 309232.963931\\n',\n",
       " '     11     31     1   0.13854 330869.718201\\n',\n",
       " '     12     20     1   0.15190 241952.515385\\n',\n",
       " '     12     26     1   0.13762 417105.396158\\n',\n",
       " '     12     29     1   0.12282 519223.515095\\n',\n",
       " '     13     21     1   0.15190 241952.515385\\n',\n",
       " '     13     27     1   0.13762 417105.396158\\n',\n",
       " '     13     30     1   0.12282 519223.515095\\n',\n",
       " '     14     16     1   0.15206 223353.921437\\n',\n",
       " '     14     26     1   0.14417 317209.209646\\n',\n",
       " '     14     39     1   0.10928 317120.034591\\n',\n",
       " '     14     40     1   0.10928 317120.034591\\n',\n",
       " '     15     17     1   0.15206 223353.921437\\n',\n",
       " '     15     26     1   0.14417 317209.209646\\n',\n",
       " '     15     41     1   0.10928 317120.034591\\n',\n",
       " '     15     42     1   0.10928 317120.034591\\n',\n",
       " '     16     28     1   0.14662 307290.680150\\n',\n",
       " '     16     43     1   0.10928 317120.034591\\n',\n",
       " '     16     44     1   0.10928 317120.034591\\n',\n",
       " '     17     28     1   0.14662 307290.680150\\n',\n",
       " '     17     45     1   0.10928 317120.034591\\n',\n",
       " '     17     46     1   0.10928 317120.034591\\n',\n",
       " '     18     47     1   0.10928 317120.034591\\n',\n",
       " '     18     48     1   0.10928 317120.034591\\n',\n",
       " '     18     49     1   0.10928 317120.034591\\n',\n",
       " '     19     50     1   0.10928 317120.034591\\n',\n",
       " '     19     51     1   0.10928 317120.034591\\n',\n",
       " '     19     52     1   0.10928 317120.034591\\n',\n",
       " '     20     31     1   0.14262 359880.331164\\n',\n",
       " '     20     53     1   0.10928 317120.034591\\n',\n",
       " '     20     54     1   0.10928 317120.034591\\n',\n",
       " '     21     22     1   0.15206 223353.921437\\n',\n",
       " '     21     55     1   0.10928 317120.034591\\n',\n",
       " '     21     56     1   0.10928 317120.034591\\n',\n",
       " '     22     23     1   0.15206 223353.921437\\n',\n",
       " '     22     57     1   0.10928 317120.034591\\n',\n",
       " '     22     58     1   0.10928 317120.034591\\n',\n",
       " '     23     24     1   0.15206 223353.921437\\n',\n",
       " '     23     59     1   0.10928 317120.034591\\n',\n",
       " '     23     60     1   0.10928 317120.034591\\n',\n",
       " '     24     28     1   0.14662 307290.680150\\n',\n",
       " '     24     61     1   0.10928 317120.034591\\n',\n",
       " '     24     62     1   0.10928 317120.034591\\n',\n",
       " '     27     63     1   0.10214 416949.032714\\n',\n",
       " '     28     64     1   0.10214 416949.032714\\n',\n",
       " '\\n',\n",
       " '[ pairs ]\\n',\n",
       " ';    ai     aj funct         c0         c1         c2         c3\\n',\n",
       " '      2      3     1 0.339966951 0.179912000\\n',\n",
       " '      1      4     1 0.339966951 0.179912000\\n',\n",
       " '      5      7     1 0.339966951 0.179912000\\n',\n",
       " '      6     10     1 0.339966951 0.179912000\\n',\n",
       " '      8     11     1 0.339966951 0.179912000\\n',\n",
       " '     11     12     1 0.339966951 0.179912000\\n',\n",
       " '      7     13     1 0.339966951 0.179912000\\n',\n",
       " '      9     13     1 0.339966951 0.179912000\\n',\n",
       " '     12     16     1 0.339966951 0.202917530\\n',\n",
       " '     15     16     1 0.339966951 0.228864800\\n',\n",
       " '     12     17     1 0.339966951 0.202917530\\n',\n",
       " '     14     17     1 0.339966951 0.228864800\\n',\n",
       " '      3     18     1 0.339966951 0.202917530\\n',\n",
       " '      4     18     1 0.339966951 0.202917530\\n',\n",
       " '      6     19     1 0.339966951 0.202917530\\n',\n",
       " '      7     19     1 0.339966951 0.202917530\\n',\n",
       " '      3     20     1 0.339966951 0.202917530\\n',\n",
       " '      4     20     1 0.339966951 0.202917530\\n',\n",
       " '     14     20     1 0.339966951 0.228864800\\n',\n",
       " '     15     20     1 0.339966951 0.228864800\\n',\n",
       " '     10     21     1 0.339966951 0.202917530\\n',\n",
       " '     13     23     1 0.339966951 0.202917530\\n',\n",
       " '     16     23     1 0.339966951 0.228864800\\n',\n",
       " '     17     23     1 0.339966951 0.228864800\\n',\n",
       " '     14     24     1 0.339966951 0.228864800\\n',\n",
       " '     15     24     1 0.339966951 0.228864800\\n',\n",
       " '     21     24     1 0.339966951 0.228864800\\n',\n",
       " '      9     25     1 0.332483402 0.252950398\\n',\n",
       " '      5     27     1 0.332483402 0.252950398\\n',\n",
       " '     19     27     1 0.332483402 0.285295421\\n',\n",
       " '     22     27     1 0.332483402 0.285295421\\n',\n",
       " '     25     27     1 0.324999852 0.355640000\\n',\n",
       " '     22     28     1 0.332483402 0.285295421\\n',\n",
       " '     26     28     1 0.324999852 0.355640000\\n',\n",
       " '     14     29     1 0.317979570 0.317088133\\n',\n",
       " '     15     29     1 0.317979570 0.317088133\\n',\n",
       " '     10     30     1 0.317979570 0.281138649\\n',\n",
       " '     22     30     1 0.317979570 0.317088133\\n',\n",
       " '      1     31     1 0.319984093 0.252950398\\n',\n",
       " '      2     31     1 0.319984093 0.252950398\\n',\n",
       " '     26     31     1 0.312500543 0.355640000\\n',\n",
       " '     29     31     1 0.297996712 0.395271761\\n',\n",
       " '      2     32     1 0.299965598 0.075137464\\n',\n",
       " '     11     32     1 0.299965598 0.075137464\\n',\n",
       " '     18     32     1 0.299965598 0.084745368\\n',\n",
       " '      1     33     1 0.299965598 0.075137464\\n',\n",
       " '     11     33     1 0.299965598 0.075137464\\n',\n",
       " '     18     33     1 0.299965598 0.084745368\\n',\n",
       " '      4     34     1 0.299965598 0.075137464\\n',\n",
       " '      8     34     1 0.299965598 0.075137464\\n',\n",
       " '     31     34     1 0.279982740 0.105640822\\n',\n",
       " '     32     34     1 0.259964246 0.031380000\\n',\n",
       " '      3     35     1 0.299965598 0.075137464\\n',\n",
       " '      8     35     1 0.299965598 0.075137464\\n',\n",
       " '     31     35     1 0.279982740 0.105640822\\n',\n",
       " '     33     35     1 0.259964246 0.031380000\\n',\n",
       " '     10     36     1 0.299965598 0.075137464\\n',\n",
       " '     19     36     1 0.299965598 0.084745368\\n',\n",
       " '     25     36     1 0.292482049 0.105640822\\n',\n",
       " '      7     37     1 0.295511105 0.075137464\\n',\n",
       " '      9     37     1 0.295511105 0.075137464\\n',\n",
       " '     36     37     1 0.255509752 0.031380000\\n',\n",
       " '      6     38     1 0.295511105 0.075137464\\n',\n",
       " '      9     38     1 0.295511105 0.075137464\\n',\n",
       " '     27     38     1 0.288027556 0.105640822\\n',\n",
       " '     12     39     1 0.293551128 0.076870682\\n',\n",
       " '     15     39     1 0.293551128 0.086700214\\n',\n",
       " '     28     39     1 0.286067578 0.108077668\\n',\n",
       " '     12     40     1 0.293551128 0.076870682\\n',\n",
       " '     15     40     1 0.293551128 0.086700214\\n',\n",
       " '     28     40     1 0.286067578 0.108077668\\n',\n",
       " '     12     41     1 0.293551128 0.076870682\\n',\n",
       " '     14     41     1 0.293551128 0.086700214\\n',\n",
       " '     28     41     1 0.286067578 0.108077668\\n',\n",
       " '     12     42     1 0.293551128 0.076870682\\n',\n",
       " '     14     42     1 0.293551128 0.086700214\\n',\n",
       " '     28     42     1 0.286067578 0.108077668\\n',\n",
       " '     17     43     1 0.267982334 0.086700214\\n',\n",
       " '     24     43     1 0.267982334 0.086700214\\n',\n",
       " '     26     43     1 0.260498785 0.108077668\\n',\n",
       " '     39     43     1 0.221566511 0.032844400\\n',\n",
       " '     40     43     1 0.221566511 0.032844400\\n',\n",
       " '     17     44     1 0.267982334 0.086700214\\n',\n",
       " '     24     44     1 0.267982334 0.086700214\\n',\n",
       " '     26     44     1 0.260498785 0.108077668\\n',\n",
       " '     39     44     1 0.221566511 0.032844400\\n',\n",
       " '     40     44     1 0.221566511 0.032844400\\n',\n",
       " '     16     45     1 0.267982334 0.086700214\\n',\n",
       " '     24     45     1 0.267982334 0.086700214\\n',\n",
       " '     26     45     1 0.260498785 0.108077668\\n',\n",
       " '     41     45     1 0.221566511 0.032844400\\n',\n",
       " '     42     45     1 0.221566511 0.032844400\\n',\n",
       " '     16     46     1 0.267982334 0.086700214\\n',\n",
       " '     24     46     1 0.267982334 0.086700214\\n',\n",
       " '     26     46     1 0.260498785 0.108077668\\n',\n",
       " '     41     46     1 0.221566511 0.032844400\\n',\n",
       " '     42     46     1 0.221566511 0.032844400\\n',\n",
       " '      1     47     1 0.302460115 0.076870682\\n',\n",
       " '      2     47     1 0.302460115 0.076870682\\n',\n",
       " '      1     48     1 0.302460115 0.076870682\\n',\n",
       " '      2     48     1 0.302460115 0.076870682\\n',\n",
       " '      1     49     1 0.302460115 0.076870682\\n',\n",
       " '      2     49     1 0.302460115 0.076870682\\n',\n",
       " '      5     50     1 0.302460115 0.076870682\\n',\n",
       " '     10     50     1 0.302460115 0.076870682\\n',\n",
       " '      5     51     1 0.302460115 0.076870682\\n',\n",
       " '     10     51     1 0.302460115 0.076870682\\n',\n",
       " '      5     52     1 0.302460115 0.076870682\\n',\n",
       " '     10     52     1 0.302460115 0.076870682\\n',\n",
       " '     11     53     1 0.293551128 0.076870682\\n',\n",
       " '     26     53     1 0.286067578 0.108077668\\n',\n",
       " '     29     53     1 0.271563747 0.120121613\\n',\n",
       " '     11     54     1 0.293551128 0.076870682\\n',\n",
       " '     26     54     1 0.286067578 0.108077668\\n',\n",
       " '     29     54     1 0.271563747 0.120121613\\n',\n",
       " '     23     55     1 0.302460115 0.086700214\\n',\n",
       " '     27     55     1 0.294976566 0.108077668\\n',\n",
       " '     30     55     1 0.280472734 0.120121613\\n',\n",
       " '     23     56     1 0.302460115 0.086700214\\n',\n",
       " '     27     56     1 0.294976566 0.108077668\\n',\n",
       " '     30     56     1 0.280472734 0.120121613\\n',\n",
       " '     13     57     1 0.302460115 0.076870682\\n',\n",
       " '     24     57     1 0.302460115 0.086700214\\n',\n",
       " '     55     57     1 0.264953279 0.032844400\\n',\n",
       " '     56     57     1 0.264953279 0.032844400\\n',\n",
       " '     13     58     1 0.302460115 0.076870682\\n',\n",
       " '     24     58     1 0.302460115 0.086700214\\n',\n",
       " '     55     58     1 0.264953279 0.032844400\\n',\n",
       " '     56     58     1 0.264953279 0.032844400\\n',\n",
       " '     21     59     1 0.302460115 0.086700214\\n',\n",
       " '     28     59     1 0.294976566 0.108077668\\n',\n",
       " '     57     59     1 0.264953279 0.032844400\\n',\n",
       " '     58     59     1 0.264953279 0.032844400\\n',\n",
       " '     21     60     1 0.302460115 0.086700214\\n',\n",
       " '     28     60     1 0.294976566 0.108077668\\n',\n",
       " '     57     60     1 0.264953279 0.032844400\\n',\n",
       " '     58     60     1 0.264953279 0.032844400\\n',\n",
       " '     16     61     1 0.267982334 0.086700214\\n',\n",
       " '     17     61     1 0.267982334 0.086700214\\n',\n",
       " '     22     61     1 0.267982334 0.086700214\\n',\n",
       " '     59     61     1 0.230475498 0.032844400\\n',\n",
       " '     60     61     1 0.230475498 0.032844400\\n',\n",
       " '     16     62     1 0.267982334 0.086700214\\n',\n",
       " '     17     62     1 0.267982334 0.086700214\\n',\n",
       " '     22     62     1 0.267982334 0.086700214\\n',\n",
       " '     59     62     1 0.230475498 0.032844400\\n',\n",
       " '     60     62     1 0.230475498 0.032844400\\n',\n",
       " '      7     63     1 0.223437399 0.076870682\\n',\n",
       " '      9     63     1 0.223437399 0.076870682\\n',\n",
       " '     21     63     1 0.223437399 0.086700214\\n',\n",
       " '     30     63     1 0.201450018 0.120121613\\n',\n",
       " '     14     64     1 0.223437399 0.086700214\\n',\n",
       " '     15     64     1 0.223437399 0.086700214\\n',\n",
       " '     23     64     1 0.223437399 0.086700214\\n',\n",
       " '     43     64     1 0.151452782 0.032844400\\n',\n",
       " '     44     64     1 0.151452782 0.032844400\\n',\n",
       " '     45     64     1 0.151452782 0.032844400\\n',\n",
       " '     46     64     1 0.151452782 0.032844400\\n',\n",
       " '     61     64     1 0.151452782 0.032844400\\n',\n",
       " '     62     64     1 0.151452782 0.032844400\\n',\n",
       " '\\n',\n",
       " '[ angles ]\\n',\n",
       " ';    ai     aj     ak funct         c0         c1         c2         c3\\n',\n",
       " '      1      3     11     1   132.0554838 643.426035\\n',\n",
       " '      1      3     34     1   137.9694120 279.359672\\n',\n",
       " '      1      8      2     1   132.0554838 643.426035\\n',\n",
       " '      1      8     18     1   132.0554838 643.426035\\n',\n",
       " '      2      4     11     1   132.0554838 643.426035\\n',\n",
       " '      2      4     35     1   137.9694120 279.359672\\n',\n",
       " '      2      8     18     1   132.0554838 643.426035\\n',\n",
       " '      3      1      8     1   132.0554838 643.426035\\n',\n",
       " '      3      1     32     1   137.9694120 279.359672\\n',\n",
       " '      3     11      4     1   132.0554838 643.426035\\n',\n",
       " '      3     11     31     1   132.0554838 643.426035\\n',\n",
       " '      4      2      8     1   132.0554838 643.426035\\n',\n",
       " '      4      2     33     1   137.9694120 279.359672\\n',\n",
       " '      4     11     31     1   132.0554838 643.426035\\n',\n",
       " '      5      6     25     1   132.0554838 643.426035\\n',\n",
       " '      5      6     37     1   137.9694120 279.359672\\n',\n",
       " '      5      9     10     1   132.0554838 643.426035\\n',\n",
       " '      5      9     19     1   132.0554838 643.426035\\n',\n",
       " '      6      5      9     1   132.0554838 643.426035\\n',\n",
       " '      6      5     36     1   137.9694120 279.359672\\n',\n",
       " '      6     25      7     1   118.7546255 806.982780\\n',\n",
       " '      7     10      9     1   132.0554838 643.426035\\n',\n",
       " '      7     10     27     1   132.0554838 643.426035\\n',\n",
       " '      8      1     32     1   137.9694120 279.359672\\n',\n",
       " '      8      2     33     1   137.9694120 279.359672\\n',\n",
       " '      8     18     47     1   107.4735852 422.617438\\n',\n",
       " '      8     18     48     1   107.4735852 422.617438\\n',\n",
       " '      8     18     49     1   107.4735852 422.617438\\n',\n",
       " '      9      5     36     1   137.9694120 279.359672\\n',\n",
       " '      9     10     27     1   132.0554838 643.426035\\n',\n",
       " '      9     19     50     1   107.4735852 422.617438\\n',\n",
       " '      9     19     51     1   107.4735852 422.617438\\n',\n",
       " '      9     19     52     1   107.4735852 422.617438\\n',\n",
       " '     10      7     25     1   132.0554838 643.426035\\n',\n",
       " '     10      7     38     1   137.9694120 279.359672\\n',\n",
       " '     10      9     19     1   132.0554838 643.426035\\n',\n",
       " '     10     27     13     1   119.2873167 454.093128\\n',\n",
       " '     10     27     63     1   122.7123128 320.751964\\n',\n",
       " '     11      3     34     1   137.9694120 279.359672\\n',\n",
       " '     11      4     35     1   137.9694120 279.359672\\n',\n",
       " '     11     31     20     1   110.0309426 482.744335\\n',\n",
       " '     12     20     31     1   107.4735852 422.617438\\n',\n",
       " '     12     20     53     1   107.4735852 422.617438\\n',\n",
       " '     12     20     54     1   107.4735852 422.617438\\n',\n",
       " '     12     26     14     1   119.2873167 454.093128\\n',\n",
       " '     12     26     15     1   119.2873167 454.093128\\n',\n",
       " '     13     21     22     1   107.4735852 422.617438\\n',\n",
       " '     13     21     55     1   107.4735852 422.617438\\n',\n",
       " '     13     21     56     1   107.4735852 422.617438\\n',\n",
       " '     13     27     63     1   122.7123128 320.751964\\n',\n",
       " '     14     16     28     1   107.4735852 422.617438\\n',\n",
       " '     14     16     43     1   107.4735852 422.617438\\n',\n",
       " '     14     16     44     1   107.4735852 422.617438\\n',\n",
       " '     14     26     15     1   119.2873167 454.093128\\n',\n",
       " '     15     17     28     1   107.4735852 422.617438\\n',\n",
       " '     15     17     45     1   107.4735852 422.617438\\n',\n",
       " '     15     17     46     1   107.4735852 422.617438\\n',\n",
       " '     16     14     26     1   107.4735852 422.617438\\n',\n",
       " '     16     14     39     1   107.4735852 422.617438\\n',\n",
       " '     16     14     40     1   107.4735852 422.617438\\n',\n",
       " '     16     28     17     1   115.7780966 608.618360\\n',\n",
       " '     16     28     24     1   115.7780966 608.618360\\n',\n",
       " '     16     28     64     1   113.1086398 352.827732\\n',\n",
       " '     17     15     26     1   107.4735852 422.617438\\n',\n",
       " '     17     15     41     1   107.4735852 422.617438\\n',\n",
       " '     17     15     42     1   107.4735852 422.617438\\n',\n",
       " '     17     28     24     1   115.7780966 608.618360\\n',\n",
       " '     17     28     64     1   113.1086398 352.827732\\n',\n",
       " '     20     12     26     1   132.0554838 643.426035\\n',\n",
       " '     20     12     29     1   132.0554838 643.426035\\n',\n",
       " '     21     13     27     1   132.0554838 643.426035\\n',\n",
       " '     21     13     30     1   132.0554838 643.426035\\n',\n",
       " '     21     22     23     1   107.4735852 422.617438\\n',\n",
       " '     21     22     57     1   107.4735852 422.617438\\n',\n",
       " '     21     22     58     1   107.4735852 422.617438\\n',\n",
       " '     22     21     55     1   107.4735852 422.617438\\n',\n",
       " '     22     21     56     1   107.4735852 422.617438\\n',\n",
       " '     22     23     24     1   107.4735852 422.617438\\n',\n",
       " '     22     23     59     1   107.4735852 422.617438\\n',\n",
       " '     22     23     60     1   107.4735852 422.617438\\n',\n",
       " '     23     22     57     1   107.4735852 422.617438\\n',\n",
       " '     23     22     58     1   107.4735852 422.617438\\n',\n",
       " '     23     24     28     1   107.4735852 422.617438\\n',\n",
       " '     23     24     61     1   107.4735852 422.617438\\n',\n",
       " '     23     24     62     1   107.4735852 422.617438\\n',\n",
       " '     24     23     59     1   107.4735852 422.617438\\n',\n",
       " '     24     23     60     1   107.4735852 422.617438\\n',\n",
       " '     24     28     64     1   113.1086398 352.827732\\n',\n",
       " '     25      6     37     1   137.9694120 279.359672\\n',\n",
       " '     25      7     38     1   137.9694120 279.359672\\n',\n",
       " '     26     12     29     1   132.0554838 643.426035\\n',\n",
       " '     26     14     39     1   107.4735852 422.617438\\n',\n",
       " '     26     14     40     1   107.4735852 422.617438\\n',\n",
       " '     26     15     41     1   107.4735852 422.617438\\n',\n",
       " '     26     15     42     1   107.4735852 422.617438\\n',\n",
       " '     27     13     30     1   132.0554838 643.426035\\n',\n",
       " '     28     16     43     1   107.4735852 422.617438\\n',\n",
       " '     28     16     44     1   107.4735852 422.617438\\n',\n",
       " '     28     17     45     1   107.4735852 422.617438\\n',\n",
       " '     28     17     46     1   107.4735852 422.617438\\n',\n",
       " '     28     24     61     1   107.4735852 422.617438\\n',\n",
       " '     28     24     62     1   107.4735852 422.617438\\n',\n",
       " '     31     20     53     1   107.4735852 422.617438\\n',\n",
       " '     31     20     54     1   107.4735852 422.617438\\n',\n",
       " '     39     14     40     1   107.3680270 310.955423\\n',\n",
       " '     41     15     42     1   107.3680270 310.955423\\n',\n",
       " '     43     16     44     1   107.3680270 310.955423\\n',\n",
       " '     45     17     46     1   107.3680270 310.955423\\n',\n",
       " '     47     18     48     1   107.3680270 310.955423\\n',\n",
       " '     47     18     49     1   107.3680270 310.955423\\n',\n",
       " '     48     18     49     1   107.3680270 310.955423\\n',\n",
       " '     50     19     51     1   107.3680270 310.955423\\n',\n",
       " '     50     19     52     1   107.3680270 310.955423\\n',\n",
       " '     51     19     52     1   107.3680270 310.955423\\n',\n",
       " '     53     20     54     1   107.3680270 310.955423\\n',\n",
       " '     55     21     56     1   107.3680270 310.955423\\n',\n",
       " '     57     22     58     1   107.3680270 310.955423\\n',\n",
       " '     59     23     60     1   107.3680270 310.955423\\n',\n",
       " '     61     24     62     1   107.3680270 310.955423\\n',\n",
       " '\\n',\n",
       " '[ dihedrals ]\\n',\n",
       " ';    ai     aj     ak     al funct         c0         c1         c2         c3         c4         c5\\n',\n",
       " '      1      3     11      4     1  180.0000000  11.0451814  2\\n',\n",
       " '      1      3     11     31     1  180.0000000  11.0451814  2\\n',\n",
       " '      1      8      2      4     1  180.0000000  11.0451814  2\\n',\n",
       " '      1      8      2     33     1  180.0000000  11.0451814  2\\n',\n",
       " '      1      8     18     47     1  0.0000000  0.3088438  3\\n',\n",
       " '      1      8     18     48     1  0.0000000  0.3088438  3\\n',\n",
       " '      1      8     18     49     1  0.0000000  0.3088438  3\\n',\n",
       " '      2      4     11      3     1  180.0000000  11.0451814  2\\n',\n",
       " '      2      4     11     31     1  180.0000000  11.0451814  2\\n',\n",
       " '      2      8      1      3     1  180.0000000  11.0451814  2\\n',\n",
       " '      2      8      1     32     1  180.0000000  11.0451814  2\\n',\n",
       " '      2      8     18     47     1  0.0000000  0.3088438  3\\n',\n",
       " '      2      8     18     48     1  0.0000000  0.3088438  3\\n',\n",
       " '      2      8     18     49     1  0.0000000  0.3088438  3\\n',\n",
       " '      3      1      8     18     1  180.0000000  11.0451814  2\\n',\n",
       " '      3     11      4     35     1  180.0000000  11.0451814  2\\n',\n",
       " '      3     11     31     20     1  180.0000000  6.8293887  2\\n',\n",
       " '      4      2      8     18     1  180.0000000  11.0451814  2\\n',\n",
       " '      4     11      3     34     1  180.0000000  11.0451814  2\\n',\n",
       " '      4     11     31     20     1  180.0000000  6.8293887  2\\n',\n",
       " '      5      6     25      7     1  180.0000000  22.1104387  2\\n',\n",
       " '      5      9     10      7     1  180.0000000  11.0451814  2\\n',\n",
       " '      5      9     10     27     1  180.0000000  11.0451814  2\\n',\n",
       " '      5      9     19     50     1  0.0000000  0.3088438  3\\n',\n",
       " '      5      9     19     51     1  0.0000000  0.3088438  3\\n',\n",
       " '      5      9     19     52     1  0.0000000  0.3088438  3\\n',\n",
       " '      6      5      9     10     1  180.0000000  11.0451814  2\\n',\n",
       " '      6      5      9     19     1  180.0000000  11.0451814  2\\n',\n",
       " '      6     25      7     10     1  180.0000000  22.1104387  2\\n',\n",
       " '      6     25      7     38     1  180.0000000  18.2032957  2\\n',\n",
       " '      7     10      9     19     1  180.0000000  11.0451814  2\\n',\n",
       " '      7     10     27     13     1  180.0000000  4.2080844  2\\n',\n",
       " '      7     10     27     63     1  180.0000000  4.2080844  2\\n',\n",
       " '      7     25      6     37     1  180.0000000  18.2032957  2\\n',\n",
       " '      8      1      3     11     1  180.0000000  11.0451814  2\\n',\n",
       " '      8      1      3     34     1  180.0000000  11.0451814  2\\n',\n",
       " '      8      2      4     11     1  180.0000000  11.0451814  2\\n',\n",
       " '      8      2      4     35     1  180.0000000  11.0451814  2\\n',\n",
       " '      9      5      6     25     1  180.0000000  11.0451814  2\\n',\n",
       " '      9      5      6     37     1  180.0000000  11.0451814  2\\n',\n",
       " '      9     10      7     25     1  180.0000000  11.0451814  2\\n',\n",
       " '      9     10      7     38     1  180.0000000  11.0451814  2\\n',\n",
       " '      9     10     27     13     1  180.0000000  4.2080844  2\\n',\n",
       " '      9     10     27     63     1  180.0000000  4.2080844  2\\n',\n",
       " '     10      9      5     36     1  180.0000000  11.0451814  2\\n',\n",
       " '     10      9     19     50     1  0.0000000  0.3088438  3\\n',\n",
       " '     10      9     19     51     1  0.0000000  0.3088438  3\\n',\n",
       " '     10      9     19     52     1  0.0000000  0.3088438  3\\n',\n",
       " '     10     27     13     21     1  180.0000000  4.2080844  2\\n',\n",
       " '     10     27     13     30     1  180.0000000  4.2080844  2\\n',\n",
       " '     11      3      1     32     1  180.0000000  11.0451814  2\\n',\n",
       " '     11      4      2     33     1  180.0000000  11.0451814  2\\n',\n",
       " '     11     31     20     12     1  0.0000000  0.8496116  3\\n',\n",
       " '     11     31     20     53     1  0.0000000  0.8496116  3\\n',\n",
       " '     11     31     20     54     1  0.0000000  0.8496116  3\\n',\n",
       " '     12     26     14     16     1  180.0000000  -0.1071256  4\\n',\n",
       " '     12     26     14     16     1  180.0000000  -0.5373990  3\\n',\n",
       " '     12     26     14     16     1  0.0000000  2.4833473  2\\n',\n",
       " '     12     26     14     16     1  0.0000000  -2.2210349  1\\n',\n",
       " '     12     26     14     39     1  0.0000000  0.5045443  2\\n',\n",
       " '     12     26     14     39     1  0.0000000  -0.4730455  3\\n',\n",
       " '     12     26     14     40     1  0.0000000  0.5045443  2\\n',\n",
       " '     12     26     14     40     1  0.0000000  -0.4730455  3\\n',\n",
       " '     12     26     15     17     1  180.0000000  -0.1071256  4\\n',\n",
       " '     12     26     15     17     1  180.0000000  -0.5373990  3\\n',\n",
       " '     12     26     15     17     1  0.0000000  2.4833473  2\\n',\n",
       " '     12     26     15     17     1  0.0000000  -2.2210349  1\\n',\n",
       " '     12     26     15     41     1  0.0000000  0.5045443  2\\n',\n",
       " '     12     26     15     41     1  0.0000000  -0.4730455  3\\n',\n",
       " '     12     26     15     42     1  0.0000000  0.5045443  2\\n',\n",
       " '     12     26     15     42     1  0.0000000  -0.4730455  3\\n',\n",
       " '     13     21     22     23     1  0.0000000  0.9132015  3\\n',\n",
       " '     13     21     22     57     1  0.0000000  0.9132015  3\\n',\n",
       " '     13     21     22     58     1  0.0000000  0.9132015  3\\n',\n",
       " '     14     16     28     17     1  0.0000000  0.3070235  3\\n',\n",
       " '     14     16     28     17     1  180.0000000  -0.1874182  2\\n',\n",
       " '     14     16     28     24     1  0.0000000  0.3070235  3\\n',\n",
       " '     14     16     28     24     1  180.0000000  -0.1874182  2\\n',\n",
       " '     14     16     28     64     1  0.0000000  0.6950182  3\\n',\n",
       " '     14     26     12     20     1  180.0000000  4.2080844  2\\n',\n",
       " '     14     26     12     29     1  180.0000000  4.2080844  2\\n',\n",
       " '     14     26     15     17     1  0.0000000  0.5045443  2\\n',\n",
       " '     14     26     15     17     1  0.0000000  -0.4730455  3\\n',\n",
       " '     14     26     15     41     1  0.0000000  0.5045443  2\\n',\n",
       " '     14     26     15     41     1  0.0000000  -0.4730455  3\\n',\n",
       " '     14     26     15     42     1  0.0000000  0.5045443  2\\n',\n",
       " '     14     26     15     42     1  0.0000000  -0.4730455  3\\n',\n",
       " '     15     17     28     16     1  0.0000000  0.3070235  3\\n',\n",
       " '     15     17     28     16     1  180.0000000  -0.1874182  2\\n',\n",
       " '     15     17     28     24     1  0.0000000  0.3070235  3\\n',\n",
       " '     15     17     28     24     1  180.0000000  -0.1874182  2\\n',\n",
       " '     15     17     28     64     1  0.0000000  0.6950182  3\\n',\n",
       " '     15     26     12     20     1  180.0000000  4.2080844  2\\n',\n",
       " '     15     26     12     29     1  180.0000000  4.2080844  2\\n',\n",
       " '     15     26     14     16     1  0.0000000  0.5045443  2\\n',\n",
       " '     15     26     14     16     1  0.0000000  -0.4730455  3\\n',\n",
       " '     15     26     14     39     1  0.0000000  0.5045443  2\\n',\n",
       " '     15     26     14     39     1  0.0000000  -0.4730455  3\\n',\n",
       " '     15     26     14     40     1  0.0000000  0.5045443  2\\n',\n",
       " '     15     26     14     40     1  0.0000000  -0.4730455  3\\n',\n",
       " '     16     28     17     45     1  0.0000000  0.6950182  3\\n',\n",
       " '     16     28     17     46     1  0.0000000  0.6950182  3\\n',\n",
       " '     16     28     24     23     1  0.0000000  0.3070235  3\\n',\n",
       " '     16     28     24     23     1  180.0000000  -0.1874182  2\\n',\n",
       " '     16     28     24     61     1  0.0000000  0.6950182  3\\n',\n",
       " '     16     28     24     62     1  0.0000000  0.6950182  3\\n',\n",
       " '     17     28     16     43     1  0.0000000  0.6950182  3\\n',\n",
       " '     17     28     16     44     1  0.0000000  0.6950182  3\\n',\n",
       " '     17     28     24     23     1  0.0000000  0.3070235  3\\n',\n",
       " '     17     28     24     23     1  180.0000000  -0.1874182  2\\n',\n",
       " '     17     28     24     61     1  0.0000000  0.6950182  3\\n',\n",
       " '     17     28     24     62     1  0.0000000  0.6950182  3\\n',\n",
       " '     18      8      1     32     1  180.0000000  11.0451814  2\\n',\n",
       " '     18      8      2     33     1  180.0000000  11.0451814  2\\n',\n",
       " '     19      9      5     36     1  180.0000000  11.0451814  2\\n',\n",
       " '     19      9     10     27     1  180.0000000  11.0451814  2\\n',\n",
       " '     21     13     27     63     1  180.0000000  4.2080844  2\\n',\n",
       " '     21     22     23     24     1  0.0000000  0.4071469  3\\n',\n",
       " '     21     22     23     24     1  180.0000000  1.8073852  2\\n',\n",
       " '     21     22     23     24     1  180.0000000  1.7292091  1\\n',\n",
       " '     21     22     23     59     1  0.0000000  0.3623013  3\\n',\n",
       " '     21     22     23     60     1  0.0000000  0.3623013  3\\n',\n",
       " '     22     21     13     27     1  0.0000000  0.0569547  4\\n',\n",
       " '     22     21     13     27     1  0.0000000  0.1608888  2\\n',\n",
       " '     22     21     13     30     1  0.0000000  -2.7069157  2\\n',\n",
       " '     22     23     24     28     1  0.0000000  0.9132015  3\\n',\n",
       " '     22     23     24     61     1  0.0000000  0.3623013  3\\n',\n",
       " '     22     23     24     62     1  0.0000000  0.3623013  3\\n',\n",
       " '     23     22     21     55     1  0.0000000  0.3623013  3\\n',\n",
       " '     23     22     21     56     1  0.0000000  0.3623013  3\\n',\n",
       " '     23     24     28     64     1  0.0000000  0.6950182  3\\n',\n",
       " '     24     23     22     57     1  0.0000000  0.3623013  3\\n',\n",
       " '     24     23     22     58     1  0.0000000  0.3623013  3\\n',\n",
       " '     24     28     16     43     1  0.0000000  0.6950182  3\\n',\n",
       " '     24     28     16     44     1  0.0000000  0.6950182  3\\n',\n",
       " '     24     28     17     45     1  0.0000000  0.6950182  3\\n',\n",
       " '     24     28     17     46     1  0.0000000  0.6950182  3\\n',\n",
       " '     25      6      5     36     1  180.0000000  11.0451814  2\\n',\n",
       " '     25      7     10     27     1  180.0000000  11.0451814  2\\n',\n",
       " '     26     12     20     31     1  0.0000000  0.3088438  3\\n',\n",
       " '     26     12     20     53     1  0.0000000  0.3088438  3\\n',\n",
       " '     26     12     20     54     1  0.0000000  0.3088438  3\\n',\n",
       " '     26     14     16     28     1  0.0000000  0.9132015  3\\n',\n",
       " '     26     14     16     43     1  0.0000000  0.9132015  3\\n',\n",
       " '     26     14     16     44     1  0.0000000  0.9132015  3\\n',\n",
       " '     26     15     17     28     1  0.0000000  0.9132015  3\\n',\n",
       " '     26     15     17     45     1  0.0000000  0.9132015  3\\n',\n",
       " '     26     15     17     46     1  0.0000000  0.9132015  3\\n',\n",
       " '     27     10      7     38     1  180.0000000  11.0451814  2\\n',\n",
       " '     27     13     21     55     1  0.0000000  0.3088438  3\\n',\n",
       " '     27     13     21     56     1  0.0000000  0.3088438  3\\n',\n",
       " '     28     16     14     39     1  0.0000000  0.9132015  3\\n',\n",
       " '     28     16     14     40     1  0.0000000  0.9132015  3\\n',\n",
       " '     28     17     15     41     1  0.0000000  0.9132015  3\\n',\n",
       " '     28     17     15     42     1  0.0000000  0.9132015  3\\n',\n",
       " '     28     24     23     59     1  0.0000000  0.9132015  3\\n',\n",
       " '     28     24     23     60     1  0.0000000  0.9132015  3\\n',\n",
       " '     29     12     20     31     1  0.0000000  -2.7069157  2\\n',\n",
       " '     29     12     20     53     1  0.0000000  0.8157621  1\\n',\n",
       " '     29     12     20     53     1  0.0000000  -0.7450688  2\\n',\n",
       " '     29     12     20     53     1  180.0000000  -0.1452676  3\\n',\n",
       " '     29     12     20     54     1  0.0000000  0.8157621  1\\n',\n",
       " '     29     12     20     54     1  0.0000000  -0.7450688  2\\n',\n",
       " '     29     12     20     54     1  180.0000000  -0.1452676  3\\n',\n",
       " '     30     13     21     55     1  0.0000000  0.8157621  1\\n',\n",
       " '     30     13     21     55     1  0.0000000  -0.7450688  2\\n',\n",
       " '     30     13     21     55     1  180.0000000  -0.1452676  3\\n',\n",
       " '     30     13     21     56     1  0.0000000  0.8157621  1\\n',\n",
       " '     30     13     21     56     1  0.0000000  -0.7450688  2\\n',\n",
       " '     30     13     21     56     1  180.0000000  -0.1452676  3\\n',\n",
       " '     30     13     27     63     1  180.0000000  9.8011424  2\\n',\n",
       " '     30     13     27     63     1  0.0000000  5.0418045  1\\n',\n",
       " '     31     11      3     34     1  180.0000000  11.0451814  2\\n',\n",
       " '     31     11      4     35     1  180.0000000  11.0451814  2\\n',\n",
       " '     32      1      3     34     1  180.0000000  11.0451814  2\\n',\n",
       " '     33      2      4     35     1  180.0000000  11.0451814  2\\n',\n",
       " '     36      5      6     37     1  180.0000000  11.0451814  2\\n',\n",
       " '     39     14     16     43     1  0.0000000  0.4340409  3\\n',\n",
       " '     39     14     16     44     1  0.0000000  0.4340409  3\\n',\n",
       " '     40     14     16     43     1  0.0000000  0.4340409  3\\n',\n",
       " '     40     14     16     44     1  0.0000000  0.4340409  3\\n',\n",
       " '     41     15     17     45     1  0.0000000  0.4340409  3\\n',\n",
       " '     41     15     17     46     1  0.0000000  0.4340409  3\\n',\n",
       " '     42     15     17     45     1  0.0000000  0.4340409  3\\n',\n",
       " '     42     15     17     46     1  0.0000000  0.4340409  3\\n',\n",
       " '     43     16     28     64     1  0.0000000  0.6950182  3\\n',\n",
       " '     44     16     28     64     1  0.0000000  0.6950182  3\\n',\n",
       " '     45     17     28     64     1  0.0000000  0.6950182  3\\n',\n",
       " '     46     17     28     64     1  0.0000000  0.6950182  3\\n',\n",
       " '     55     21     22     57     1  0.0000000  0.4340409  3\\n',\n",
       " '     55     21     22     58     1  0.0000000  0.4340409  3\\n',\n",
       " '     56     21     22     57     1  0.0000000  0.4340409  3\\n',\n",
       " '     56     21     22     58     1  0.0000000  0.4340409  3\\n',\n",
       " '     57     22     23     59     1  0.0000000  0.4340409  3\\n',\n",
       " '     57     22     23     60     1  0.0000000  0.4340409  3\\n',\n",
       " '     58     22     23     59     1  0.0000000  0.4340409  3\\n',\n",
       " '     58     22     23     60     1  0.0000000  0.4340409  3\\n',\n",
       " '     59     23     24     61     1  0.0000000  0.4340409  3\\n',\n",
       " '     59     23     24     62     1  0.0000000  0.4340409  3\\n',\n",
       " '     60     23     24     61     1  0.0000000  0.4340409  3\\n',\n",
       " '     60     23     24     62     1  0.0000000  0.4340409  3\\n',\n",
       " '     61     24     28     64     1  0.0000000  0.6950182  3\\n',\n",
       " '     62     24     28     64     1  0.0000000  0.6950182  3\\n',\n",
       " '      1     32      3      8     1  180.0000000  1.5341333  2\\n',\n",
       " '      1      3      8     32     1  180.0000000  1.5341333  2\\n',\n",
       " '      1      8     32      3     1  180.0000000  1.5341333  2\\n',\n",
       " '      2     33      4      8     1  180.0000000  1.5341333  2\\n',\n",
       " '      2      4      8     33     1  180.0000000  1.5341333  2\\n',\n",
       " '      2      8     33      4     1  180.0000000  1.5341333  2\\n',\n",
       " '      3     34      1     11     1  180.0000000  1.5341333  2\\n',\n",
       " '      3      1     11     34     1  180.0000000  1.5341333  2\\n',\n",
       " '      3     11     34      1     1  180.0000000  1.5341333  2\\n',\n",
       " '      4     35      2     11     1  180.0000000  1.5341333  2\\n',\n",
       " '      4      2     11     35     1  180.0000000  1.5341333  2\\n',\n",
       " '      4     11     35      2     1  180.0000000  1.5341333  2\\n',\n",
       " '      5     36      6      9     1  180.0000000  1.5341333  2\\n',\n",
       " '      5      6      9     36     1  180.0000000  1.5341333  2\\n',\n",
       " '      5      9     36      6     1  180.0000000  1.5341333  2\\n',\n",
       " '      6     37      5     25     1  180.0000000  1.5341333  2\\n',\n",
       " '      6      5     25     37     1  180.0000000  1.5341333  2\\n',\n",
       " '      6     25     37      5     1  180.0000000  1.5341333  2\\n',\n",
       " '      7     38     10     25     1  180.0000000  1.5341333  2\\n',\n",
       " '      7     10     25     38     1  180.0000000  1.5341333  2\\n',\n",
       " '      7     25     38     10     1  180.0000000  1.5341333  2\\n',\n",
       " '      8     18      1      2     1  180.0000000  1.5341333  2\\n',\n",
       " '      8      1      2     18     1  180.0000000  1.5341333  2\\n',\n",
       " '      8      2     18      1     1  180.0000000  1.5341333  2\\n',\n",
       " '      9     19      5     10     1  180.0000000  1.5341333  2\\n',\n",
       " '      9      5     10     19     1  180.0000000  1.5341333  2\\n',\n",
       " '      9     10     19      5     1  180.0000000  1.5341333  2\\n',\n",
       " '     10     27      7      9     1  180.0000000  1.5341333  2\\n',\n",
       " '     10      7      9     27     1  180.0000000  1.5341333  2\\n',\n",
       " '     10      9     27      7     1  180.0000000  1.5341333  2\\n',\n",
       " '     11     31      3      4     1  180.0000000  1.5341333  2\\n',\n",
       " '     11      3      4     31     1  180.0000000  1.5341333  2\\n',\n",
       " '     11      4     31      3     1  180.0000000  1.5341333  2\\n',\n",
       " '     12     29     20     26     1  180.0000000  1.5341333  2\\n',\n",
       " '     12     20     26     29     1  180.0000000  1.5341333  2\\n',\n",
       " '     12     26     29     20     1  180.0000000  1.5341333  2\\n',\n",
       " '     13     30     21     27     1  180.0000000  1.5341333  2\\n',\n",
       " '     13     21     27     30     1  180.0000000  1.5341333  2\\n',\n",
       " '     13     27     30     21     1  180.0000000  1.5341333  2\\n',\n",
       " '     26     15     12     14     1  180.0000000  1.3946667  2\\n',\n",
       " '     26     12     14     15     1  180.0000000  1.3946667  2\\n',\n",
       " '     26     14     15     12     1  180.0000000  1.3946667  2\\n',\n",
       " '     27     63     10     13     1  180.0000000  1.3946667  2\\n',\n",
       " '     27     10     13     63     1  180.0000000  1.3946667  2\\n',\n",
       " '     27     13     63     10     1  180.0000000  1.3946667  2\\n',\n",
       " '\\n',\n",
       " '\\n',\n",
       " '[ moleculetype ]\\n',\n",
       " '; Name            nrexcl\\n',\n",
       " 'system1          3\\n',\n",
       " '\\n',\n",
       " '[ atoms ]\\n',\n",
       " ';   nr       type  resnr residue  atom   cgnr    charge       mass  typeB    chargeB      massB\\n',\n",
       " '; residue    1 ACE rtp ACE q -0.0\\n',\n",
       " '    1         C1      1    ACE      C      1 0.59720000  12.010780   ; qtot 0.597200\\n',\n",
       " '    2         O1      1    ACE      O      2 -0.56790000  15.999430   ; qtot 0.029300\\n',\n",
       " '    3         C2      1    ACE    CH3      3 -0.36620000  12.010780   ; qtot -0.336900\\n',\n",
       " '    4         H5      1    ACE   HH31      4 0.11230000   4.000000   ; qtot -0.224600\\n',\n",
       " '    5         H5      1    ACE   HH32      5 0.11230000   4.000000   ; qtot -0.112300\\n',\n",
       " '    6         H5      1    ACE   HH33      6 0.11230000   4.000000   ; qtot -0.000000\\n',\n",
       " '; residue    2 SER rtp SER q 0.0\\n',\n",
       " '    7         N1      2    SER      N      7 -0.41570000  14.006720   ; qtot -0.415700\\n',\n",
       " '    8         C2      2    SER     CA      8 -0.02490000  12.010780   ; qtot -0.440600\\n',\n",
       " '    9         C1      2    SER      C      9 0.59730000  12.010780   ; qtot 0.156700\\n',\n",
       " '   10         O1      2    SER      O     10 -0.56790000  15.999430   ; qtot -0.411200\\n',\n",
       " '   11         C2      2    SER     CB     11 0.21170000  12.010780   ; qtot -0.199500\\n',\n",
       " '   12         O3      2    SER     OG     12 -0.65460000  15.999430   ; qtot -0.854100\\n',\n",
       " '   13         H6      2    SER      H     13 0.27190000   4.000000   ; qtot -0.582200\\n',\n",
       " '   14         H3      2    SER     HA     14 0.08430000   4.000000   ; qtot -0.497900\\n',\n",
       " '   15         H3      2    SER    HB2     15 0.03520000   4.000000   ; qtot -0.462700\\n',\n",
       " '   16         H3      2    SER    HB3     16 0.03520000   4.000000   ; qtot -0.427500\\n',\n",
       " '   17         H7      2    SER     HG     17 0.42750000   4.000000   ; qtot 0.000000\\n',\n",
       " '; residue    3 GLY rtp GLY q 0.0\\n',\n",
       " '   18         N1      3    GLY      N     18 -0.41570000  14.006720   ; qtot -0.415700\\n',\n",
       " '   19         C2      3    GLY     CA     19 -0.02520000  12.010780   ; qtot -0.440900\\n',\n",
       " '   20         C1      3    GLY      C     20 0.59730000  12.010780   ; qtot 0.156400\\n',\n",
       " '   21         O1      3    GLY      O     21 -0.56790000  15.999430   ; qtot -0.411500\\n',\n",
       " '   22         H6      3    GLY      H     22 0.27190000   4.000000   ; qtot -0.139600\\n',\n",
       " '   23         H3      3    GLY    HA2     23 0.06980000   4.000000   ; qtot -0.069800\\n',\n",
       " '   24         H3      3    GLY    HA3     24 0.06980000   4.000000   ; qtot 0.000000\\n',\n",
       " '; residue    4 PHE rtp PHE q 0.0\\n',\n",
       " '   25         N1      4    PHE      N     25 -0.41570000  14.006720   ; qtot -0.415700\\n',\n",
       " '   26         C2      4    PHE     CA     26 -0.00240000  12.010780   ; qtot -0.418100\\n',\n",
       " '   27         C1      4    PHE      C     27 0.59730000  12.010780   ; qtot 0.179200\\n',\n",
       " '   28         O1      4    PHE      O     28 -0.56790000  15.999430   ; qtot -0.388700\\n',\n",
       " '   29         C2      4    PHE     CB     29 -0.03430000  12.010780   ; qtot -0.423000\\n',\n",
       " '   30         C1      4    PHE     CG     30 0.01180000  12.010780   ; qtot -0.411200\\n',\n",
       " '   31         C1      4    PHE    CD1     31 -0.12560000  12.010780   ; qtot -0.536800\\n',\n",
       " '   32         C1      4    PHE    CD2     32 -0.12560000  12.010780   ; qtot -0.662400\\n',\n",
       " '   33         C1      4    PHE    CE1     33 -0.17040000  12.010780   ; qtot -0.832800\\n',\n",
       " '   34         C1      4    PHE    CE2     34 -0.17040000  12.010780   ; qtot -1.003200\\n',\n",
       " '   35         C1      4    PHE     CZ     35 -0.10720000  12.010780   ; qtot -1.110400\\n',\n",
       " '   36         H6      4    PHE      H     36 0.27190000   4.000000   ; qtot -0.838500\\n',\n",
       " '   37         H3      4    PHE     HA     37 0.09780000   4.000000   ; qtot -0.740700\\n',\n",
       " '   38         H5      4    PHE    HB2     38 0.02950000   4.000000   ; qtot -0.711200\\n',\n",
       " '   39         H5      4    PHE    HB3     39 0.02950000   4.000000   ; qtot -0.681700\\n',\n",
       " '   40         H1      4    PHE    HD1     40 0.13300000   4.000000   ; qtot -0.548700\\n',\n",
       " '   41         H1      4    PHE    HD2     41 0.13300000   4.000000   ; qtot -0.415700\\n',\n",
       " '   42         H1      4    PHE    HE1     42 0.14300000   4.000000   ; qtot -0.272700\\n',\n",
       " '   43         H1      4    PHE    HE2     43 0.14300000   4.000000   ; qtot -0.129700\\n',\n",
       " '   44         H1      4    PHE     HZ     44 0.12970000   4.000000   ; qtot 0.000000\\n',\n",
       " '; residue    5 ARG rtp ARG q 1.0\\n',\n",
       " '   45         N1      5    ARG      N     45 -0.34790000  14.006720   ; qtot -0.347900\\n',\n",
       " '   46         C2      5    ARG     CA     46 -0.26370000  12.010780   ; qtot -0.611600\\n',\n",
       " '   47         C1      5    ARG      C     47 0.73410000  12.010780   ; qtot 0.122500\\n',\n",
       " '   48         O1      5    ARG      O     48 -0.58940000  15.999430   ; qtot -0.466900\\n',\n",
       " '   49         C2      5    ARG     CB     49 -0.00070000  12.010780   ; qtot -0.467600\\n',\n",
       " '   50         C2      5    ARG     CG     50 0.03900000  12.010780   ; qtot -0.428600\\n',\n",
       " '   51         C2      5    ARG     CD     51 0.04860000  12.010780   ; qtot -0.380000\\n',\n",
       " '   52         N1      5    ARG     NE     52 -0.52950000  14.006720   ; qtot -0.909500\\n',\n",
       " '   53         C1      5    ARG     CZ     53 0.80760000  12.010780   ; qtot -0.101900\\n',\n",
       " '   54         N1      5    ARG    NH1     54 -0.86270000  14.006720   ; qtot -0.964600\\n',\n",
       " '   55         N1      5    ARG    NH2     55 -0.86270000  14.006720   ; qtot -1.827300\\n',\n",
       " '   56         H6      5    ARG      H     56 0.27470000   4.000000   ; qtot -1.552600\\n',\n",
       " '   57         H3      5    ARG     HA     57 0.15600000   4.000000   ; qtot -1.396600\\n',\n",
       " '   58         H5      5    ARG    HB2     58 0.03270000   4.000000   ; qtot -1.363900\\n',\n",
       " '   59         H5      5    ARG    HB3     59 0.03270000   4.000000   ; qtot -1.331200\\n',\n",
       " '   60         H5      5    ARG    HG2     60 0.02850000   4.000000   ; qtot -1.302700\\n',\n",
       " '   61         H5      5    ARG    HG3     61 0.02850000   4.000000   ; qtot -1.274200\\n',\n",
       " '   62         H3      5    ARG    HD2     62 0.06870000   4.000000   ; qtot -1.205500\\n',\n",
       " '   63         H3      5    ARG    HD3     63 0.06870000   4.000000   ; qtot -1.136800\\n',\n",
       " '   64         H6      5    ARG     HE     64 0.34560000   4.000000   ; qtot -0.791200\\n',\n",
       " '   65         H6      5    ARG   HH11     65 0.44780000   4.000000   ; qtot -0.343400\\n',\n",
       " '   66         H6      5    ARG   HH12     66 0.44780000   4.000000   ; qtot 0.104400\\n',\n",
       " '   67         H6      5    ARG   HH21     67 0.44780000   4.000000   ; qtot 0.552200\\n',\n",
       " '   68         H6      5    ARG   HH22     68 0.44780000   4.000000   ; qtot 1.000000\\n',\n",
       " '; residue    6 LYS rtp LYS q 1.0\\n',\n",
       " '   69         N1      6    LYS      N     69 -0.34790000  14.006720   ; qtot 0.652100\\n',\n",
       " '   70         C2      6    LYS     CA     70 -0.24000000  12.010780   ; qtot 0.412100\\n',\n",
       " '   71         C1      6    LYS      C     71 0.73410000  12.010780   ; qtot 1.146200\\n',\n",
       " '   72         O1      6    LYS      O     72 -0.58940000  15.999430   ; qtot 0.556800\\n',\n",
       " '   73         C2      6    LYS     CB     73 -0.00940000  12.010780   ; qtot 0.547400\\n',\n",
       " '   74         C2      6    LYS     CG     74 0.01870000  12.010780   ; qtot 0.566100\\n',\n",
       " '   75         C2      6    LYS     CD     75 -0.04790000  12.010780   ; qtot 0.518200\\n',\n",
       " '   76         C2      6    LYS     CE     76 -0.01430000  12.010780   ; qtot 0.503900\\n',\n",
       " '   77         N1      6    LYS     NZ     77 -0.38540000  14.006720   ; qtot 0.118500\\n',\n",
       " '   78         H6      6    LYS      H     78 0.27470000   4.000000   ; qtot 0.393200\\n',\n",
       " '   79         H3      6    LYS     HA     79 0.14260000   4.000000   ; qtot 0.535800\\n',\n",
       " '   80         H5      6    LYS    HB2     80 0.03620000   4.000000   ; qtot 0.572000\\n',\n",
       " '   81         H5      6    LYS    HB3     81 0.03620000   4.000000   ; qtot 0.608200\\n',\n",
       " '   82         H5      6    LYS    HG2     82 0.01030000   4.000000   ; qtot 0.618500\\n',\n",
       " '   83         H5      6    LYS    HG3     83 0.01030000   4.000000   ; qtot 0.628800\\n',\n",
       " '   84         H5      6    LYS    HD2     84 0.06210000   4.000000   ; qtot 0.690900\\n',\n",
       " '   85         H5      6    LYS    HD3     85 0.06210000   4.000000   ; qtot 0.753000\\n',\n",
       " '   86         H4      6    LYS    HE2     86 0.11350000   4.000000   ; qtot 0.866500\\n',\n",
       " '   87         H4      6    LYS    HE3     87 0.11350000   4.000000   ; qtot 0.980000\\n',\n",
       " '   88         H6      6    LYS    HZ1     88 0.34000000   4.000000   ; qtot 1.320000\\n',\n",
       " '   89         H6      6    LYS    HZ2     89 0.34000000   4.000000   ; qtot 1.660000\\n',\n",
       " '   90         H6      6    LYS    HZ3     90 0.34000000   4.000000   ; qtot 2.000000\\n',\n",
       " '; residue    7 MET rtp MET q 0.0\\n',\n",
       " '   91         N1      7    MET      N     91 -0.41570000  14.006720   ; qtot 1.584300\\n',\n",
       " '   92         C2      7    MET     CA     92 -0.02370000  12.010780   ; qtot 1.560600\\n',\n",
       " '   93         C1      7    MET      C     93 0.59730000  12.010780   ; qtot 2.157900\\n',\n",
       " '   94         O1      7    MET      O     94 -0.56790000  15.999430   ; qtot 1.590000\\n',\n",
       " '   95         C2      7    MET     CB     95 0.03420000  12.010780   ; qtot 1.624200\\n',\n",
       " '   96         C2      7    MET     CG     96 0.00180000  12.010780   ; qtot 1.626000\\n',\n",
       " '   97         S1      7    MET     SD     97 -0.27370000  32.065500   ; qtot 1.352300\\n',\n",
       " '   98         C2      7    MET     CE     98 -0.05360000  12.010780   ; qtot 1.298700\\n',\n",
       " '   99         H6      7    MET      H     99 0.27190000   4.000000   ; qtot 1.570600\\n',\n",
       " '  100         H3      7    MET     HA    100 0.08800000   4.000000   ; qtot 1.658600\\n',\n",
       " '  101         H5      7    MET    HB2    101 0.02410000   4.000000   ; qtot 1.682700\\n',\n",
       " '  102         H5      7    MET    HB3    102 0.02410000   4.000000   ; qtot 1.706800\\n',\n",
       " '  103         H3      7    MET    HG2    103 0.04400000   4.000000   ; qtot 1.750800\\n',\n",
       " '  104         H3      7    MET    HG3    104 0.04400000   4.000000   ; qtot 1.794800\\n',\n",
       " '  105         H3      7    MET    HE1    105 0.06840000   4.000000   ; qtot 1.863200\\n',\n",
       " '  106         H3      7    MET    HE2    106 0.06840000   4.000000   ; qtot 1.931600\\n',\n",
       " '  107         H3      7    MET    HE3    107 0.06840000   4.000000   ; qtot 2.000000\\n',\n",
       " '; residue    8 ALA rtp ALA q 0.0\\n',\n",
       " '  108         N1      8    ALA      N    108 -0.41570000  14.006720   ; qtot 1.584300\\n',\n",
       " '  109         C2      8    ALA     CA    109 0.03370000  12.010780   ; qtot 1.618000\\n',\n",
       " '  110         C1      8    ALA      C    110 0.59730000  12.010780   ; qtot 2.215300\\n',\n",
       " '  111         O1      8    ALA      O    111 -0.56790000  15.999430   ; qtot 1.647400\\n',\n",
       " '  112         C2      8    ALA     CB    112 -0.18250000  12.010780   ; qtot 1.464900\\n',\n",
       " '  113         H6      8    ALA      H    113 0.27190000   4.000000   ; qtot 1.736800\\n',\n",
       " '  114         H3      8    ALA     HA    114 0.08230000   4.000000   ; qtot 1.819100\\n',\n",
       " '  115         H5      8    ALA    HB1    115 0.06030000   4.000000   ; qtot 1.879400\\n',\n",
       " '  116         H5      8    ALA    HB2    116 0.06030000   4.000000   ; qtot 1.939700\\n',\n",
       " '  117         H5      8    ALA    HB3    117 0.06030000   4.000000   ; qtot 2.000000\\n',\n",
       " '; residue    9 PHE rtp PHE q 0.0\\n',\n",
       " '  118         N1      9    PHE      N    118 -0.41570000  14.006720   ; qtot 1.584300\\n',\n",
       " '  119         C2      9    PHE     CA    119 -0.00240000  12.010780   ; qtot 1.581900\\n',\n",
       " '  120         C1      9    PHE      C    120 0.59730000  12.010780   ; qtot 2.179200\\n',\n",
       " '  121         O1      9    PHE      O    121 -0.56790000  15.999430   ; qtot 1.611300\\n',\n",
       " '  122         C2      9    PHE     CB    122 -0.03430000  12.010780   ; qtot 1.577000\\n',\n",
       " '  123         C1      9    PHE     CG    123 0.01180000  12.010780   ; qtot 1.588800\\n',\n",
       " '  124         C1      9    PHE    CD1    124 -0.12560000  12.010780   ; qtot 1.463200\\n',\n",
       " '  125         C1      9    PHE    CD2    125 -0.12560000  12.010780   ; qtot 1.337600\\n',\n",
       " '  126         C1      9    PHE    CE1    126 -0.17040000  12.010780   ; qtot 1.167200\\n',\n",
       " '  127         C1      9    PHE    CE2    127 -0.17040000  12.010780   ; qtot 0.996800\\n',\n",
       " '  128         C1      9    PHE     CZ    128 -0.10720000  12.010780   ; qtot 0.889600\\n',\n",
       " '  129         H6      9    PHE      H    129 0.27190000   4.000000   ; qtot 1.161500\\n',\n",
       " '  130         H3      9    PHE     HA    130 0.09780000   4.000000   ; qtot 1.259300\\n',\n",
       " '  131         H5      9    PHE    HB2    131 0.02950000   4.000000   ; qtot 1.288800\\n',\n",
       " '  132         H5      9    PHE    HB3    132 0.02950000   4.000000   ; qtot 1.318300\\n',\n",
       " '  133         H1      9    PHE    HD1    133 0.13300000   4.000000   ; qtot 1.451300\\n',\n",
       " '  134         H1      9    PHE    HD2    134 0.13300000   4.000000   ; qtot 1.584300\\n',\n",
       " '  135         H1      9    PHE    HE1    135 0.14300000   4.000000   ; qtot 1.727300\\n',\n",
       " '  136         H1      9    PHE    HE2    136 0.14300000   4.000000   ; qtot 1.870300\\n',\n",
       " '  137         H1      9    PHE     HZ    137 0.12970000   4.000000   ; qtot 2.000000\\n',\n",
       " '; residue   10 PRO rtp PRO q -0.0\\n',\n",
       " '  138         N1     10    PRO      N    138 -0.25480000  14.006720   ; qtot 1.745200\\n',\n",
       " '  139         C2     10    PRO     CA    139 -0.02660000  12.010780   ; qtot 1.718600\\n',\n",
       " '  140         C1     10    PRO      C    140 0.58960000  12.010780   ; qtot 2.308200\\n',\n",
       " '  141         O1     10    PRO      O    141 -0.57480000  15.999430   ; qtot 1.733400\\n',\n",
       " '  142         C2     10    PRO     CB    142 -0.00700000  12.010780   ; qtot 1.726400\\n',\n",
       " '  143         C2     10    PRO     CG    143 0.01890000  12.010780   ; qtot 1.745300\\n',\n",
       " '  144         C2     10    PRO     CD    144 0.01920000  12.010780   ; qtot 1.764500\\n',\n",
       " '  145         H3     10    PRO     HA    145 0.06410000   4.000000   ; qtot 1.828600\\n',\n",
       " '  146         H5     10    PRO    HB2    146 0.02530000   4.000000   ; qtot 1.853900\\n',\n",
       " '  147         H5     10    PRO    HB3    147 0.02530000   4.000000   ; qtot 1.879200\\n',\n",
       " '  148         H5     10    PRO    HG2    148 0.02130000   4.000000   ; qtot 1.900500\\n',\n",
       " '  149         H5     10    PRO    HG3    149 0.02130000   4.000000   ; qtot 1.921800\\n',\n",
       " '  150         H3     10    PRO    HD2    150 0.03910000   4.000000   ; qtot 1.960900\\n',\n",
       " '  151         H3     10    PRO    HD3    151 0.03910000   4.000000   ; qtot 2.000000\\n',\n",
       " '; residue   11 SER rtp SER q 0.0\\n',\n",
       " '  152         N1     11    SER      N    152 -0.41570000  14.006720   ; qtot 1.584300\\n',\n",
       " '  153         C2     11    SER     CA    153 -0.02490000  12.010780   ; qtot 1.559400\\n',\n",
       " '  154         C1     11    SER      C    154 0.59730000  12.010780   ; qtot 2.156700\\n',\n",
       " '  155         O1     11    SER      O    155 -0.56790000  15.999430   ; qtot 1.588800\\n',\n",
       " '  156         C2     11    SER     CB    156 0.21170000  12.010780   ; qtot 1.800500\\n',\n",
       " '  157         O3     11    SER     OG    157 -0.65460000  15.999430   ; qtot 1.145900\\n',\n",
       " '  158         H6     11    SER      H    158 0.27190000   4.000000   ; qtot 1.417800\\n',\n",
       " '  159         H3     11    SER     HA    159 0.08430000   4.000000   ; qtot 1.502100\\n',\n",
       " '  160         H3     11    SER    HB2    160 0.03520000   4.000000   ; qtot 1.537300\\n',\n",
       " '  161         H3     11    SER    HB3    161 0.03520000   4.000000   ; qtot 1.572500\\n',\n",
       " '  162         H7     11    SER     HG    162 0.42750000   4.000000   ; qtot 2.000000\\n',\n",
       " '; residue   12 GLY rtp GLY q 0.0\\n',\n",
       " '  163         N1     12    GLY      N    163 -0.41570000  14.006720   ; qtot 1.584300\\n',\n",
       " '  164         C2     12    GLY     CA    164 -0.02520000  12.010780   ; qtot 1.559100\\n',\n",
       " '  165         C1     12    GLY      C    165 0.59730000  12.010780   ; qtot 2.156400\\n',\n",
       " '  166         O1     12    GLY      O    166 -0.56790000  15.999430   ; qtot 1.588500\\n',\n",
       " '  167         H6     12    GLY      H    167 0.27190000   4.000000   ; qtot 1.860400\\n',\n",
       " '  168         H3     12    GLY    HA2    168 0.06980000   4.000000   ; qtot 1.930200\\n',\n",
       " '  169         H3     12    GLY    HA3    169 0.06980000   4.000000   ; qtot 2.000000\\n',\n",
       " '; residue   13 LYS rtp LYS q 1.0\\n',\n",
       " '  170         N1     13    LYS      N    170 -0.34790000  14.006720   ; qtot 1.652100\\n',\n",
       " '  171         C2     13    LYS     CA    171 -0.24000000  12.010780   ; qtot 1.412100\\n',\n",
       " '  172         C1     13    LYS      C    172 0.73410000  12.010780   ; qtot 2.146200\\n',\n",
       " '  173         O1     13    LYS      O    173 -0.58940000  15.999430   ; qtot 1.556800\\n',\n",
       " '  174         C2     13    LYS     CB    174 -0.00940000  12.010780   ; qtot 1.547400\\n',\n",
       " '  175         C2     13    LYS     CG    175 0.01870000  12.010780   ; qtot 1.566100\\n',\n",
       " '  176         C2     13    LYS     CD    176 -0.04790000  12.010780   ; qtot 1.518200\\n',\n",
       " '  177         C2     13    LYS     CE    177 -0.01430000  12.010780   ; qtot 1.503900\\n',\n",
       " '  178         N1     13    LYS     NZ    178 -0.38540000  14.006720   ; qtot 1.118500\\n',\n",
       " '  179         H6     13    LYS      H    179 0.27470000   4.000000   ; qtot 1.393200\\n',\n",
       " '  180         H3     13    LYS     HA    180 0.14260000   4.000000   ; qtot 1.535800\\n',\n",
       " '  181         H5     13    LYS    HB2    181 0.03620000   4.000000   ; qtot 1.572000\\n',\n",
       " '  182         H5     13    LYS    HB3    182 0.03620000   4.000000   ; qtot 1.608200\\n',\n",
       " '  183         H5     13    LYS    HG2    183 0.01030000   4.000000   ; qtot 1.618500\\n',\n",
       " '  184         H5     13    LYS    HG3    184 0.01030000   4.000000   ; qtot 1.628800\\n',\n",
       " '  185         H5     13    LYS    HD2    185 0.06210000   4.000000   ; qtot 1.690900\\n',\n",
       " '  186         H5     13    LYS    HD3    186 0.06210000   4.000000   ; qtot 1.753000\\n',\n",
       " '  187         H4     13    LYS    HE2    187 0.11350000   4.000000   ; qtot 1.866500\\n',\n",
       " '  188         H4     13    LYS    HE3    188 0.11350000   4.000000   ; qtot 1.980000\\n',\n",
       " '  189         H6     13    LYS    HZ1    189 0.34000000   4.000000   ; qtot 2.320000\\n',\n",
       " '  190         H6     13    LYS    HZ2    190 0.34000000   4.000000   ; qtot 2.660000\\n',\n",
       " '  191         H6     13    LYS    HZ3    191 0.34000000   4.000000   ; qtot 3.000000\\n',\n",
       " '; residue   14 VAL rtp VAL q 0.0\\n',\n",
       " '  192         N1     14    VAL      N    192 -0.41570000  14.006720   ; qtot 2.584300\\n',\n",
       " '  193         C2     14    VAL     CA    193 -0.08750000  12.010780   ; qtot 2.496800\\n',\n",
       " '  194         C1     14    VAL      C    194 0.59730000  12.010780   ; qtot 3.094100\\n',\n",
       " '  195         O1     14    VAL      O    195 -0.56790000  15.999430   ; qtot 2.526200\\n',\n",
       " '  196         C2     14    VAL     CB    196 0.29850000  12.010780   ; qtot 2.824700\\n',\n",
       " '  197         C2     14    VAL    CG1    197 -0.31920000  12.010780   ; qtot 2.505500\\n',\n",
       " '  198         C2     14    VAL    CG2    198 -0.31920000  12.010780   ; qtot 2.186300\\n',\n",
       " '  199         H6     14    VAL      H    199 0.27190000   4.000000   ; qtot 2.458200\\n',\n",
       " '  200         H3     14    VAL     HA    200 0.09690000   4.000000   ; qtot 2.555100\\n',\n",
       " '  201         H5     14    VAL     HB    201 -0.02970000   4.000000   ; qtot 2.525400\\n',\n",
       " '  202         H5     14    VAL   HG11    202 0.07910000   4.000000   ; qtot 2.604500\\n',\n",
       " '  203         H5     14    VAL   HG12    203 0.07910000   4.000000   ; qtot 2.683600\\n',\n",
       " '  204         H5     14    VAL   HG13    204 0.07910000   4.000000   ; qtot 2.762700\\n',\n",
       " '  205         H5     14    VAL   HG21    205 0.07910000   4.000000   ; qtot 2.841800\\n',\n",
       " '  206         H5     14    VAL   HG22    206 0.07910000   4.000000   ; qtot 2.920900\\n',\n",
       " '  207         H5     14    VAL   HG23    207 0.07910000   4.000000   ; qtot 3.000000\\n',\n",
       " '; residue   15 GLU rtp GLU q -1.0\\n',\n",
       " '  208         N1     15    GLU      N    208 -0.51630000  14.006720   ; qtot 2.483700\\n',\n",
       " '  209         C2     15    GLU     CA    209 0.03970000  12.010780   ; qtot 2.523400\\n',\n",
       " '  210         C1     15    GLU      C    210 0.53660000  12.010780   ; qtot 3.060000\\n',\n",
       " '  211         O1     15    GLU      O    211 -0.58190000  15.999430   ; qtot 2.478100\\n',\n",
       " '  212         C2     15    GLU     CB    212 0.05600000  12.010780   ; qtot 2.534100\\n',\n",
       " '  213         C2     15    GLU     CG    213 0.01360000  12.010780   ; qtot 2.547700\\n',\n",
       " '  214         C1     15    GLU     CD    214 0.80540000  12.010780   ; qtot 3.353100\\n',\n",
       " '  215         O1     15    GLU    OE1    215 -0.81880000  15.999430   ; qtot 2.534300\\n',\n",
       " '  216         O1     15    GLU    OE2    216 -0.81880000  15.999430   ; qtot 1.715500\\n',\n",
       " '  217         H6     15    GLU      H    217 0.29360000   4.000000   ; qtot 2.009100\\n',\n",
       " '  218         H3     15    GLU     HA    218 0.11050000   4.000000   ; qtot 2.119600\\n',\n",
       " '  219         H5     15    GLU    HB2    219 -0.01730000   4.000000   ; qtot 2.102300\\n',\n",
       " '  220         H5     15    GLU    HB3    220 -0.01730000   4.000000   ; qtot 2.085000\\n',\n",
       " '  221         H5     15    GLU    HG2    221 -0.04250000   4.000000   ; qtot 2.042500\\n',\n",
       " '  222         H5     15    GLU    HG3    222 -0.04250000   4.000000   ; qtot 2.000000\\n',\n",
       " '; residue   16 GLY rtp GLY q 0.0\\n',\n",
       " '  223         N1     16    GLY      N    223 -0.41570000  14.006720   ; qtot 1.584300\\n',\n",
       " '  224         C2     16    GLY     CA    224 -0.02520000  12.010780   ; qtot 1.559100\\n',\n",
       " '  225         C1     16    GLY      C    225 0.59730000  12.010780   ; qtot 2.156400\\n',\n",
       " '  226         O1     16    GLY      O    226 -0.56790000  15.999430   ; qtot 1.588500\\n',\n",
       " '  227         H6     16    GLY      H    227 0.27190000   4.000000   ; qtot 1.860400\\n',\n",
       " '  228         H3     16    GLY    HA2    228 0.06980000   4.000000   ; qtot 1.930200\\n',\n",
       " '  229         H3     16    GLY    HA3    229 0.06980000   4.000000   ; qtot 2.000000\\n',\n",
       " '; residue   17 CYS rtp CYS q 0.0\\n',\n",
       " '  230         N1     17    CYS      N    230 -0.41570000  14.006720   ; qtot 1.584300\\n',\n",
       " '  231         C2     17    CYS     CA    231 0.02130000  12.010780   ; qtot 1.605600\\n',\n",
       " '  232         C1     17    CYS      C    232 0.59730000  12.010780   ; qtot 2.202900\\n',\n",
       " '  233         O1     17    CYS      O    233 -0.56790000  15.999430   ; qtot 1.635000\\n',\n",
       " '  234         C2     17    CYS     CB    234 -0.12310000  12.010780   ; qtot 1.511900\\n',\n",
       " '  235         S1     17    CYS     SG    235 -0.31190000  32.065500   ; qtot 1.200000\\n',\n",
       " '  236         H6     17    CYS      H    236 0.27190000   4.000000   ; qtot 1.471900\\n',\n",
       " '  237         H3     17    CYS     HA    237 0.11240000   4.000000   ; qtot 1.584300\\n',\n",
       " '  238         H3     17    CYS    HB2    238 0.11120000   4.000000   ; qtot 1.695500\\n',\n",
       " '  239         H3     17    CYS    HB3    239 0.11120000   4.000000   ; qtot 1.806700\\n',\n",
       " '  240         H6     17    CYS     HG    240 0.19330000   4.000000   ; qtot 2.000000\\n',\n",
       " '; residue   18 MET rtp MET q 0.0\\n',\n",
       " '  241         N1     18    MET      N    241 -0.41570000  14.006720   ; qtot 1.584300\\n',\n",
       " '  242         C2     18    MET     CA    242 -0.02370000  12.010780   ; qtot 1.560600\\n',\n",
       " '  243         C1     18    MET      C    243 0.59730000  12.010780   ; qtot 2.157900\\n',\n",
       " '  244         O1     18    MET      O    244 -0.56790000  15.999430   ; qtot 1.590000\\n',\n",
       " '  245         C2     18    MET     CB    245 0.03420000  12.010780   ; qtot 1.624200\\n',\n",
       " '  246         C2     18    MET     CG    246 0.00180000  12.010780   ; qtot 1.626000\\n',\n",
       " '  247         S1     18    MET     SD    247 -0.27370000  32.065500   ; qtot 1.352300\\n',\n",
       " '  248         C2     18    MET     CE    248 -0.05360000  12.010780   ; qtot 1.298700\\n',\n",
       " '  249         H6     18    MET      H    249 0.27190000   4.000000   ; qtot 1.570600\\n',\n",
       " '  250         H3     18    MET     HA    250 0.08800000   4.000000   ; qtot 1.658600\\n',\n",
       " '  251         H5     18    MET    HB2    251 0.02410000   4.000000   ; qtot 1.682700\\n',\n",
       " '  252         H5     18    MET    HB3    252 0.02410000   4.000000   ; qtot 1.706800\\n',\n",
       " '  253         H3     18    MET    HG2    253 0.04400000   4.000000   ; qtot 1.750800\\n',\n",
       " '  254         H3     18    MET    HG3    254 0.04400000   4.000000   ; qtot 1.794800\\n',\n",
       " '  255         H3     18    MET    HE1    255 0.06840000   4.000000   ; qtot 1.863200\\n',\n",
       " '  256         H3     18    MET    HE2    256 0.06840000   4.000000   ; qtot 1.931600\\n',\n",
       " ...]"
      ]
     },
     "execution_count": 11,
     "metadata": {},
     "output_type": "execute_result"
    }
   ],
   "source": [
    "topol_lines"
   ]
  },
  {
   "cell_type": "code",
   "execution_count": 12,
   "metadata": {},
   "outputs": [
    {
     "name": "stdout",
     "output_type": "stream",
     "text": [
      "line_indices_to_grab [9]\n"
     ]
    }
   ],
   "source": [
    "line_indices_to_grab = []\n",
    "for j in range(len(topol_lines)):\n",
    "    if topol_lines[j].count('ParmEd') > 0:\n",
    "        line_indices_to_grab.append(j)\n",
    "\n",
    "print('line_indices_to_grab', line_indices_to_grab)"
   ]
  },
  {
   "cell_type": "code",
   "execution_count": 16,
   "metadata": {},
   "outputs": [],
   "source": [
    "my_grofile = f'data/P{project}_R{run}_C{clone}/npt.gro'\n",
    "fin = open(my_grofile, 'r')\n",
    "lines = fin.readlines()"
   ]
  },
  {
   "cell_type": "code",
   "execution_count": null,
   "metadata": {},
   "outputs": [],
   "source": []
  }
 ],
 "metadata": {
  "kernelspec": {
   "display_name": "Python 3",
   "language": "python",
   "name": "python3"
  },
  "language_info": {
   "codemirror_mode": {
    "name": "ipython",
    "version": 3
   },
   "file_extension": ".py",
   "mimetype": "text/x-python",
   "name": "python",
   "nbconvert_exporter": "python",
   "pygments_lexer": "ipython3",
   "version": "3.8.5"
  }
 },
 "nbformat": 4,
 "nbformat_minor": 4
}
